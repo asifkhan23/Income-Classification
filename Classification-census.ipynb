{
  "nbformat": 4,
  "nbformat_minor": 0,
  "metadata": {
    "colab": {
      "name": "Copy of Hackathon_Group1.ipynb",
      "provenance": [],
      "collapsed_sections": []
    },
    "kernelspec": {
      "name": "python3",
      "display_name": "Python 3"
    },
    "language_info": {
      "name": "python"
    }
  },
  "cells": [
    {
      "cell_type": "markdown",
      "metadata": {
        "id": "aJ3O_yiY9_rx"
      },
      "source": [
        "# Exploratry Data Analysis and Model development on Census Data"
      ]
    },
    {
      "cell_type": "markdown",
      "metadata": {
        "id": "W7ZSydHy-O9Q"
      },
      "source": [
        "# Libraries "
      ]
    },
    {
      "cell_type": "code",
      "metadata": {
        "id": "USrD6kvdUoFb"
      },
      "source": [
        "#Libraries\n",
        "from matplotlib import rcParams\n",
        "from sklearn import preprocessing\n",
        "import numpy as np\n",
        "import pandas as pd\n",
        "import matplotlib.pyplot as plt\n",
        "import seaborn as sns\n",
        "from sklearn.metrics import *\n",
        "from sklearn.preprocessing import StandardScaler\n",
        "from sklearn.preprocessing import MinMaxScaler\n",
        "from sklearn.neural_network import MLPClassifier\n",
        "from sklearn.ensemble import RandomForestClassifier\n",
        "from sklearn.preprocessing import LabelEncoder\n",
        "from sklearn.pipeline import Pipeline\n",
        "from sklearn.model_selection import train_test_split, StratifiedKFold\n",
        "from tabulate import tabulate\n",
        "from sklearn.model_selection import GridSearchCV\n",
        "from sklearn.model_selection import cross_val_score\n",
        "from sklearn.model_selection import RandomizedSearchCV\n",
        "from sklearn.pipeline import Pipeline\n",
        "from sklearn.pipeline import make_pipeline\n",
        "from sklearn.decomposition import PCA\n",
        "from sklearn.model_selection import cross_val_score\n",
        "from sklearn.metrics import *\n",
        "from sklearn.compose import ColumnTransformer\n",
        "from sklearn.preprocessing import OneHotEncoder\n",
        "from sklearn.preprocessing import StandardScaler\n",
        "from sklearn.model_selection import GridSearchCV\n",
        "from sklearn.neighbors import KNeighborsClassifier\n",
        "from tabulate import tabulate\n",
        "from sklearn.linear_model import LogisticRegression\n",
        "from sklearn.naive_bayes import MultinomialNB\n",
        "from sklearn.tree import DecisionTreeClassifier\n",
        "from sklearn.neighbors import KNeighborsClassifier\n",
        "from sklearn.model_selection import GridSearchCV\n",
        "from xgboost import XGBClassifier\n",
        "from catboost import CatBoostClassifier\n",
        "from matplotlib.cm import rainbow"
      ],
      "execution_count": null,
      "outputs": []
    },
    {
      "cell_type": "markdown",
      "metadata": {
        "id": "1KOdVRaIgZxl"
      },
      "source": [
        "# Reading Data"
      ]
    },
    {
      "cell_type": "code",
      "metadata": {
        "id": "koRraVo9VEHH"
      },
      "source": [
        "# Read Test and Train data and replace ? with NA\n",
        "\n",
        "df_test = pd.read_csv('Test_data.csv', na_values= ' ?')\n",
        "df_train = pd.read_csv('Train_data.csv', na_values= ' ?')"
      ],
      "execution_count": null,
      "outputs": []
    },
    {
      "cell_type": "markdown",
      "metadata": {
        "id": "axc_jg6mVfWK"
      },
      "source": [
        "# Data cleaning and preprocessing "
      ]
    },
    {
      "cell_type": "code",
      "metadata": {
        "id": "m1VMbZMxVxXr"
      },
      "source": [
        "# Adding column names to train data\n",
        "df_train.columns = ['age','workclass','fnlwgt','education','education-num','marital-status','occupation','relationship','race','sex','capital-gain','capital-loss','hours-per-week','native-country','income']\n",
        "\n",
        "# Adding column names to test data\n",
        "df_test.columns = ['age','workclass','fnlwgt','education','education-num','marital-status','occupation','relationship','race','sex','capital-gain','capital-loss','hours-per-week','native-country','income']\n"
      ],
      "execution_count": null,
      "outputs": []
    },
    {
      "cell_type": "code",
      "metadata": {
        "colab": {
          "base_uri": "https://localhost:8080/"
        },
        "id": "C2dHeWgwV5ov",
        "outputId": "fc528ad6-5c91-475a-ed23-db0f46a8317c"
      },
      "source": [
        "df_train.info()"
      ],
      "execution_count": null,
      "outputs": [
        {
          "output_type": "stream",
          "text": [
            "<class 'pandas.core.frame.DataFrame'>\n",
            "RangeIndex: 22744 entries, 0 to 22743\n",
            "Data columns (total 15 columns):\n",
            " #   Column          Non-Null Count  Dtype \n",
            "---  ------          --------------  ----- \n",
            " 0   age             22744 non-null  int64 \n",
            " 1   workclass       21472 non-null  object\n",
            " 2   fnlwgt          22744 non-null  int64 \n",
            " 3   education       22744 non-null  object\n",
            " 4   education-num   22744 non-null  int64 \n",
            " 5   marital-status  22744 non-null  object\n",
            " 6   occupation      21468 non-null  object\n",
            " 7   relationship    22744 non-null  object\n",
            " 8   race            22744 non-null  object\n",
            " 9   sex             22744 non-null  object\n",
            " 10  capital-gain    22744 non-null  int64 \n",
            " 11  capital-loss    22744 non-null  int64 \n",
            " 12  hours-per-week  22744 non-null  int64 \n",
            " 13  native-country  22338 non-null  object\n",
            " 14  income          22744 non-null  object\n",
            "dtypes: int64(6), object(9)\n",
            "memory usage: 2.6+ MB\n"
          ],
          "name": "stdout"
        }
      ]
    },
    {
      "cell_type": "code",
      "metadata": {
        "colab": {
          "base_uri": "https://localhost:8080/"
        },
        "id": "8jkLHgNiV_SA",
        "outputId": "82eb8a1c-eff3-43d2-9716-d5cf9a975bd0"
      },
      "source": [
        "df_train.shape"
      ],
      "execution_count": null,
      "outputs": [
        {
          "output_type": "execute_result",
          "data": {
            "text/plain": [
              "(22744, 15)"
            ]
          },
          "metadata": {
            "tags": []
          },
          "execution_count": 8
        }
      ]
    },
    {
      "cell_type": "code",
      "metadata": {
        "colab": {
          "base_uri": "https://localhost:8080/"
        },
        "id": "srAp4YrGWEKB",
        "outputId": "e5fe81b5-400d-4ae9-8295-f106a118f87a"
      },
      "source": [
        "df_test.info()"
      ],
      "execution_count": null,
      "outputs": [
        {
          "output_type": "stream",
          "text": [
            "<class 'pandas.core.frame.DataFrame'>\n",
            "RangeIndex: 9815 entries, 0 to 9814\n",
            "Data columns (total 15 columns):\n",
            " #   Column          Non-Null Count  Dtype \n",
            "---  ------          --------------  ----- \n",
            " 0   age             9815 non-null   int64 \n",
            " 1   workclass       9251 non-null   object\n",
            " 2   fnlwgt          9815 non-null   int64 \n",
            " 3   education       9815 non-null   object\n",
            " 4   education-num   9815 non-null   int64 \n",
            " 5   marital-status  9815 non-null   object\n",
            " 6   occupation      9248 non-null   object\n",
            " 7   relationship    9815 non-null   object\n",
            " 8   race            9815 non-null   object\n",
            " 9   sex             9815 non-null   object\n",
            " 10  capital-gain    9815 non-null   int64 \n",
            " 11  capital-loss    9815 non-null   int64 \n",
            " 12  hours-per-week  9815 non-null   int64 \n",
            " 13  native-country  9638 non-null   object\n",
            " 14  income          9815 non-null   object\n",
            "dtypes: int64(6), object(9)\n",
            "memory usage: 1.1+ MB\n"
          ],
          "name": "stdout"
        }
      ]
    },
    {
      "cell_type": "code",
      "metadata": {
        "colab": {
          "base_uri": "https://localhost:8080/"
        },
        "id": "YYcX7RojWHEo",
        "outputId": "ca64191c-426b-4664-988b-bb6c3d87dec3"
      },
      "source": [
        "df_test.shape"
      ],
      "execution_count": null,
      "outputs": [
        {
          "output_type": "execute_result",
          "data": {
            "text/plain": [
              "(9815, 15)"
            ]
          },
          "metadata": {
            "tags": []
          },
          "execution_count": 10
        }
      ]
    },
    {
      "cell_type": "markdown",
      "metadata": {
        "id": "XnEXGFYOWSS-"
      },
      "source": [
        "### Handling Null and Missing Values"
      ]
    },
    {
      "cell_type": "code",
      "metadata": {
        "colab": {
          "base_uri": "https://localhost:8080/"
        },
        "id": "1X9_utDgWlBo",
        "outputId": "7b945ff3-8406-4676-ff2e-066995b96ae7"
      },
      "source": [
        "# Removing any space in the names of the columns\n",
        "df_train.columns = df_train.columns.str.replace(' ', '')\n",
        "df_train.columns\n",
        "\n",
        "df_test.columns = df_test.columns.str.replace(' ', '')\n",
        "df_test.columns"
      ],
      "execution_count": null,
      "outputs": [
        {
          "output_type": "execute_result",
          "data": {
            "text/plain": [
              "Index(['age', 'workclass', 'fnlwgt', 'education', 'education-num',\n",
              "       'marital-status', 'occupation', 'relationship', 'race', 'sex',\n",
              "       'capital-gain', 'capital-loss', 'hours-per-week', 'native-country',\n",
              "       'income'],\n",
              "      dtype='object')"
            ]
          },
          "metadata": {
            "tags": []
          },
          "execution_count": 11
        }
      ]
    },
    {
      "cell_type": "code",
      "metadata": {
        "colab": {
          "base_uri": "https://localhost:8080/"
        },
        "id": "nacd4jBCWqK5",
        "outputId": "a46adb71-5f26-4064-f3c0-9df27b796a2c"
      },
      "source": [
        "#Finding what percentage of data is missing from the Train dataset\n",
        "\n",
        "total_train = df_train.isnull().sum().sort_values(ascending=False)\n",
        "percent_1_train = df_train.isnull().sum()/df_train.isnull().count()*100\n",
        "percent_2_train = (round(percent_1_train, 1)).sort_values(ascending=False)\n",
        "missing_data_train = pd.concat([total_train, percent_2_train], axis=1, keys=['Total', '%'])\n",
        "\n",
        "#Finding what percentage of data is missing from the Test dataset\n",
        "\n",
        "total_test = df_test.isnull().sum().sort_values(ascending=False)\n",
        "percent_1_test = df_test.isnull().sum()/df_test.isnull().count()*100\n",
        "percent_2_test = (round(percent_1_test, 1)).sort_values(ascending=False)\n",
        "missing_data_test = pd.concat([total_test, percent_2_test], axis=1, keys=['Total', '%'])\n",
        "\n",
        "print(missing_data_train.head(5),missing_data_test.head(5))"
      ],
      "execution_count": null,
      "outputs": [
        {
          "output_type": "stream",
          "text": [
            "                Total    %\n",
            "occupation       1276  5.6\n",
            "workclass        1272  5.6\n",
            "native-country    406  1.8\n",
            "income              0  0.0\n",
            "hours-per-week      0  0.0                 Total    %\n",
            "occupation        567  5.8\n",
            "workclass         564  5.7\n",
            "native-country    177  1.8\n",
            "income              0  0.0\n",
            "hours-per-week      0  0.0\n"
          ],
          "name": "stdout"
        }
      ]
    },
    {
      "cell_type": "code",
      "metadata": {
        "colab": {
          "base_uri": "https://localhost:8080/"
        },
        "id": "TIMiMvyGW0ma",
        "outputId": "94245de4-222a-4849-9b17-541eef76b3fd"
      },
      "source": [
        "# Here we got to know that workclass, occupation, native-country contains missing values. \n",
        "df_train.info()\n",
        "print(\"---------------------------------------\")\n",
        "df_train.info()"
      ],
      "execution_count": null,
      "outputs": [
        {
          "output_type": "stream",
          "text": [
            "<class 'pandas.core.frame.DataFrame'>\n",
            "RangeIndex: 22744 entries, 0 to 22743\n",
            "Data columns (total 15 columns):\n",
            " #   Column          Non-Null Count  Dtype \n",
            "---  ------          --------------  ----- \n",
            " 0   age             22744 non-null  int64 \n",
            " 1   workclass       21472 non-null  object\n",
            " 2   fnlwgt          22744 non-null  int64 \n",
            " 3   education       22744 non-null  object\n",
            " 4   education-num   22744 non-null  int64 \n",
            " 5   marital-status  22744 non-null  object\n",
            " 6   occupation      21468 non-null  object\n",
            " 7   relationship    22744 non-null  object\n",
            " 8   race            22744 non-null  object\n",
            " 9   sex             22744 non-null  object\n",
            " 10  capital-gain    22744 non-null  int64 \n",
            " 11  capital-loss    22744 non-null  int64 \n",
            " 12  hours-per-week  22744 non-null  int64 \n",
            " 13  native-country  22338 non-null  object\n",
            " 14  income          22744 non-null  object\n",
            "dtypes: int64(6), object(9)\n",
            "memory usage: 2.6+ MB\n",
            "---------------------------------------/n\n",
            "<class 'pandas.core.frame.DataFrame'>\n",
            "RangeIndex: 22744 entries, 0 to 22743\n",
            "Data columns (total 15 columns):\n",
            " #   Column          Non-Null Count  Dtype \n",
            "---  ------          --------------  ----- \n",
            " 0   age             22744 non-null  int64 \n",
            " 1   workclass       21472 non-null  object\n",
            " 2   fnlwgt          22744 non-null  int64 \n",
            " 3   education       22744 non-null  object\n",
            " 4   education-num   22744 non-null  int64 \n",
            " 5   marital-status  22744 non-null  object\n",
            " 6   occupation      21468 non-null  object\n",
            " 7   relationship    22744 non-null  object\n",
            " 8   race            22744 non-null  object\n",
            " 9   sex             22744 non-null  object\n",
            " 10  capital-gain    22744 non-null  int64 \n",
            " 11  capital-loss    22744 non-null  int64 \n",
            " 12  hours-per-week  22744 non-null  int64 \n",
            " 13  native-country  22338 non-null  object\n",
            " 14  income          22744 non-null  object\n",
            "dtypes: int64(6), object(9)\n",
            "memory usage: 2.6+ MB\n"
          ],
          "name": "stdout"
        }
      ]
    },
    {
      "cell_type": "code",
      "metadata": {
        "id": "yFrVomU9XdN-"
      },
      "source": [
        "# All the three columns which contains missing values are categorical, so we will use mode to replaces these missing values. \n",
        "\n",
        "for col in ['workclass', 'occupation', 'native-country']:\n",
        "    df_train[col].fillna(df_train[col].mode()[0], inplace=True)\n",
        "\n",
        "for col in ['workclass', 'occupation', 'native-country']:\n",
        "    df_test[col].fillna(df_test[col].mode()[0], inplace=True)"
      ],
      "execution_count": null,
      "outputs": []
    },
    {
      "cell_type": "code",
      "metadata": {
        "colab": {
          "base_uri": "https://localhost:8080/"
        },
        "id": "NbnSq0YOXmWx",
        "outputId": "f417482c-2d53-42b5-ff30-70e1440139f7"
      },
      "source": [
        "#calculate sum of null for train data\n",
        "df_train.isnull().sum()"
      ],
      "execution_count": null,
      "outputs": [
        {
          "output_type": "execute_result",
          "data": {
            "text/plain": [
              "age               0\n",
              "workclass         0\n",
              "fnlwgt            0\n",
              "education         0\n",
              "education-num     0\n",
              "marital-status    0\n",
              "occupation        0\n",
              "relationship      0\n",
              "race              0\n",
              "sex               0\n",
              "capital-gain      0\n",
              "capital-loss      0\n",
              "hours-per-week    0\n",
              "native-country    0\n",
              "income            0\n",
              "dtype: int64"
            ]
          },
          "metadata": {
            "tags": []
          },
          "execution_count": 15
        }
      ]
    },
    {
      "cell_type": "code",
      "metadata": {
        "colab": {
          "base_uri": "https://localhost:8080/"
        },
        "id": "rKSoHWCYXnSL",
        "outputId": "36d3780c-0f15-4253-f1e0-be5e1a1736a8"
      },
      "source": [
        "#calculate sum of null for test data\n",
        "df_test.isnull().sum()"
      ],
      "execution_count": null,
      "outputs": [
        {
          "output_type": "execute_result",
          "data": {
            "text/plain": [
              "age               0\n",
              "workclass         0\n",
              "fnlwgt            0\n",
              "education         0\n",
              "education-num     0\n",
              "marital-status    0\n",
              "occupation        0\n",
              "relationship      0\n",
              "race              0\n",
              "sex               0\n",
              "capital-gain      0\n",
              "capital-loss      0\n",
              "hours-per-week    0\n",
              "native-country    0\n",
              "income            0\n",
              "dtype: int64"
            ]
          },
          "metadata": {
            "tags": []
          },
          "execution_count": 16
        }
      ]
    },
    {
      "cell_type": "code",
      "metadata": {
        "id": "eKHQG7eYXr4o"
      },
      "source": [
        "# Replace Income column of Train data to 0,1\n",
        "df_train_final = df_train.replace({' <=50K':0,' >50K':1})\n",
        "\n",
        "df_test_final = df_test.replace({' <=50K':0,' >50K':1})"
      ],
      "execution_count": null,
      "outputs": []
    },
    {
      "cell_type": "code",
      "metadata": {
        "colab": {
          "base_uri": "https://localhost:8080/",
          "height": 419
        },
        "id": "JhPVPlUtXvAh",
        "outputId": "e3852bb5-cd4e-476f-997c-ee6e852aed07"
      },
      "source": [
        "df_train_final\n",
        "df_test_final"
      ],
      "execution_count": null,
      "outputs": [
        {
          "output_type": "execute_result",
          "data": {
            "text/html": [
              "<div>\n",
              "<style scoped>\n",
              "    .dataframe tbody tr th:only-of-type {\n",
              "        vertical-align: middle;\n",
              "    }\n",
              "\n",
              "    .dataframe tbody tr th {\n",
              "        vertical-align: top;\n",
              "    }\n",
              "\n",
              "    .dataframe thead th {\n",
              "        text-align: right;\n",
              "    }\n",
              "</style>\n",
              "<table border=\"1\" class=\"dataframe\">\n",
              "  <thead>\n",
              "    <tr style=\"text-align: right;\">\n",
              "      <th></th>\n",
              "      <th>age</th>\n",
              "      <th>workclass</th>\n",
              "      <th>fnlwgt</th>\n",
              "      <th>education</th>\n",
              "      <th>education-num</th>\n",
              "      <th>marital-status</th>\n",
              "      <th>occupation</th>\n",
              "      <th>relationship</th>\n",
              "      <th>race</th>\n",
              "      <th>sex</th>\n",
              "      <th>capital-gain</th>\n",
              "      <th>capital-loss</th>\n",
              "      <th>hours-per-week</th>\n",
              "      <th>native-country</th>\n",
              "      <th>income</th>\n",
              "    </tr>\n",
              "  </thead>\n",
              "  <tbody>\n",
              "    <tr>\n",
              "      <th>0</th>\n",
              "      <td>39</td>\n",
              "      <td>Private</td>\n",
              "      <td>491000</td>\n",
              "      <td>Bachelors</td>\n",
              "      <td>13</td>\n",
              "      <td>Never-married</td>\n",
              "      <td>Exec-managerial</td>\n",
              "      <td>Other-relative</td>\n",
              "      <td>Black</td>\n",
              "      <td>Male</td>\n",
              "      <td>0</td>\n",
              "      <td>0</td>\n",
              "      <td>45</td>\n",
              "      <td>United-States</td>\n",
              "      <td>0</td>\n",
              "    </tr>\n",
              "    <tr>\n",
              "      <th>1</th>\n",
              "      <td>33</td>\n",
              "      <td>Private</td>\n",
              "      <td>399088</td>\n",
              "      <td>HS-grad</td>\n",
              "      <td>9</td>\n",
              "      <td>Divorced</td>\n",
              "      <td>Transport-moving</td>\n",
              "      <td>Unmarried</td>\n",
              "      <td>White</td>\n",
              "      <td>Female</td>\n",
              "      <td>0</td>\n",
              "      <td>0</td>\n",
              "      <td>40</td>\n",
              "      <td>United-States</td>\n",
              "      <td>0</td>\n",
              "    </tr>\n",
              "    <tr>\n",
              "      <th>2</th>\n",
              "      <td>41</td>\n",
              "      <td>Self-emp-not-inc</td>\n",
              "      <td>186909</td>\n",
              "      <td>Masters</td>\n",
              "      <td>14</td>\n",
              "      <td>Married-civ-spouse</td>\n",
              "      <td>Sales</td>\n",
              "      <td>Wife</td>\n",
              "      <td>White</td>\n",
              "      <td>Female</td>\n",
              "      <td>0</td>\n",
              "      <td>1902</td>\n",
              "      <td>35</td>\n",
              "      <td>United-States</td>\n",
              "      <td>1</td>\n",
              "    </tr>\n",
              "    <tr>\n",
              "      <th>3</th>\n",
              "      <td>65</td>\n",
              "      <td>Private</td>\n",
              "      <td>105491</td>\n",
              "      <td>Bachelors</td>\n",
              "      <td>13</td>\n",
              "      <td>Married-civ-spouse</td>\n",
              "      <td>Exec-managerial</td>\n",
              "      <td>Husband</td>\n",
              "      <td>White</td>\n",
              "      <td>Male</td>\n",
              "      <td>99999</td>\n",
              "      <td>0</td>\n",
              "      <td>40</td>\n",
              "      <td>United-States</td>\n",
              "      <td>1</td>\n",
              "    </tr>\n",
              "    <tr>\n",
              "      <th>4</th>\n",
              "      <td>40</td>\n",
              "      <td>Private</td>\n",
              "      <td>34987</td>\n",
              "      <td>Bachelors</td>\n",
              "      <td>13</td>\n",
              "      <td>Never-married</td>\n",
              "      <td>Sales</td>\n",
              "      <td>Not-in-family</td>\n",
              "      <td>White</td>\n",
              "      <td>Male</td>\n",
              "      <td>0</td>\n",
              "      <td>0</td>\n",
              "      <td>53</td>\n",
              "      <td>United-States</td>\n",
              "      <td>0</td>\n",
              "    </tr>\n",
              "    <tr>\n",
              "      <th>...</th>\n",
              "      <td>...</td>\n",
              "      <td>...</td>\n",
              "      <td>...</td>\n",
              "      <td>...</td>\n",
              "      <td>...</td>\n",
              "      <td>...</td>\n",
              "      <td>...</td>\n",
              "      <td>...</td>\n",
              "      <td>...</td>\n",
              "      <td>...</td>\n",
              "      <td>...</td>\n",
              "      <td>...</td>\n",
              "      <td>...</td>\n",
              "      <td>...</td>\n",
              "      <td>...</td>\n",
              "    </tr>\n",
              "    <tr>\n",
              "      <th>9810</th>\n",
              "      <td>27</td>\n",
              "      <td>Private</td>\n",
              "      <td>257302</td>\n",
              "      <td>Assoc-acdm</td>\n",
              "      <td>12</td>\n",
              "      <td>Married-civ-spouse</td>\n",
              "      <td>Tech-support</td>\n",
              "      <td>Wife</td>\n",
              "      <td>White</td>\n",
              "      <td>Female</td>\n",
              "      <td>0</td>\n",
              "      <td>0</td>\n",
              "      <td>38</td>\n",
              "      <td>United-States</td>\n",
              "      <td>0</td>\n",
              "    </tr>\n",
              "    <tr>\n",
              "      <th>9811</th>\n",
              "      <td>40</td>\n",
              "      <td>Private</td>\n",
              "      <td>154374</td>\n",
              "      <td>HS-grad</td>\n",
              "      <td>9</td>\n",
              "      <td>Married-civ-spouse</td>\n",
              "      <td>Machine-op-inspct</td>\n",
              "      <td>Husband</td>\n",
              "      <td>White</td>\n",
              "      <td>Male</td>\n",
              "      <td>0</td>\n",
              "      <td>0</td>\n",
              "      <td>40</td>\n",
              "      <td>United-States</td>\n",
              "      <td>1</td>\n",
              "    </tr>\n",
              "    <tr>\n",
              "      <th>9812</th>\n",
              "      <td>58</td>\n",
              "      <td>Private</td>\n",
              "      <td>151910</td>\n",
              "      <td>HS-grad</td>\n",
              "      <td>9</td>\n",
              "      <td>Widowed</td>\n",
              "      <td>Adm-clerical</td>\n",
              "      <td>Unmarried</td>\n",
              "      <td>White</td>\n",
              "      <td>Female</td>\n",
              "      <td>0</td>\n",
              "      <td>0</td>\n",
              "      <td>40</td>\n",
              "      <td>United-States</td>\n",
              "      <td>0</td>\n",
              "    </tr>\n",
              "    <tr>\n",
              "      <th>9813</th>\n",
              "      <td>22</td>\n",
              "      <td>Private</td>\n",
              "      <td>201490</td>\n",
              "      <td>HS-grad</td>\n",
              "      <td>9</td>\n",
              "      <td>Never-married</td>\n",
              "      <td>Adm-clerical</td>\n",
              "      <td>Own-child</td>\n",
              "      <td>White</td>\n",
              "      <td>Male</td>\n",
              "      <td>0</td>\n",
              "      <td>0</td>\n",
              "      <td>20</td>\n",
              "      <td>United-States</td>\n",
              "      <td>0</td>\n",
              "    </tr>\n",
              "    <tr>\n",
              "      <th>9814</th>\n",
              "      <td>52</td>\n",
              "      <td>Self-emp-inc</td>\n",
              "      <td>287927</td>\n",
              "      <td>HS-grad</td>\n",
              "      <td>9</td>\n",
              "      <td>Married-civ-spouse</td>\n",
              "      <td>Exec-managerial</td>\n",
              "      <td>Wife</td>\n",
              "      <td>White</td>\n",
              "      <td>Female</td>\n",
              "      <td>15024</td>\n",
              "      <td>0</td>\n",
              "      <td>40</td>\n",
              "      <td>United-States</td>\n",
              "      <td>1</td>\n",
              "    </tr>\n",
              "  </tbody>\n",
              "</table>\n",
              "<p>9815 rows × 15 columns</p>\n",
              "</div>"
            ],
            "text/plain": [
              "      age          workclass  fnlwgt  ... hours-per-week  native-country income\n",
              "0      39            Private  491000  ...             45   United-States      0\n",
              "1      33            Private  399088  ...             40   United-States      0\n",
              "2      41   Self-emp-not-inc  186909  ...             35   United-States      1\n",
              "3      65            Private  105491  ...             40   United-States      1\n",
              "4      40            Private   34987  ...             53   United-States      0\n",
              "...   ...                ...     ...  ...            ...             ...    ...\n",
              "9810   27            Private  257302  ...             38   United-States      0\n",
              "9811   40            Private  154374  ...             40   United-States      1\n",
              "9812   58            Private  151910  ...             40   United-States      0\n",
              "9813   22            Private  201490  ...             20   United-States      0\n",
              "9814   52       Self-emp-inc  287927  ...             40   United-States      1\n",
              "\n",
              "[9815 rows x 15 columns]"
            ]
          },
          "metadata": {
            "tags": []
          },
          "execution_count": 18
        }
      ]
    },
    {
      "cell_type": "markdown",
      "metadata": {
        "id": "EuSEPLcnX328"
      },
      "source": [
        "# Exploratory Analysis & Visualization "
      ]
    },
    {
      "cell_type": "code",
      "metadata": {
        "colab": {
          "base_uri": "https://localhost:8080/",
          "height": 835
        },
        "id": "ObyGfUWhXxc5",
        "outputId": "ca3604e5-3fd7-4dda-fc01-8f7bab53e93a"
      },
      "source": [
        "rcParams['figure.figsize'] = 20, 12\n",
        "df_train_final[['age', 'fnlwgt', 'education-num', 'capital-gain', 'capital-loss', 'hours-per-week']].hist()"
      ],
      "execution_count": null,
      "outputs": [
        {
          "output_type": "execute_result",
          "data": {
            "text/plain": [
              "array([[<matplotlib.axes._subplots.AxesSubplot object at 0x7fc628024890>,\n",
              "        <matplotlib.axes._subplots.AxesSubplot object at 0x7fc628300390>],\n",
              "       [<matplotlib.axes._subplots.AxesSubplot object at 0x7fc627fae4d0>,\n",
              "        <matplotlib.axes._subplots.AxesSubplot object at 0x7fc627f25b50>],\n",
              "       [<matplotlib.axes._subplots.AxesSubplot object at 0x7fc627ee6210>,\n",
              "        <matplotlib.axes._subplots.AxesSubplot object at 0x7fc627e9a890>]],\n",
              "      dtype=object)"
            ]
          },
          "metadata": {
            "tags": []
          },
          "execution_count": 19
        },
        {
          "output_type": "display_data",
          "data": {
            "image/png": "[encoded data removed]",
            "text/plain": [
              "<Figure size 1440x864 with 6 Axes>"
            ]
          },
          "metadata": {
            "tags": [],
            "needs_background": "light"
          }
        }
      ]
    },
    {
      "cell_type": "markdown",
      "metadata": {
        "id": "xpeO0lu1YbWu"
      },
      "source": [
        "From the histograms above, we can infer the following:\n",
        "\n",
        "- We can group the Age column into bins.\n",
        "- For Capital Gain and Capital Loss the data is highly left skewed which needs to be tackled.\n",
        "- We need to analyse Education Number further as it might align with Education information.\n",
        "- Final Weight is also left skewed.\n",
        "- The Hours per Week can also be split into bins."
      ]
    },
    {
      "cell_type": "code",
      "metadata": {
        "colab": {
          "base_uri": "https://localhost:8080/",
          "height": 705
        },
        "id": "DSNVQFv1YYB1",
        "outputId": "625f186d-344c-47ad-caab-71f5c670f5cb"
      },
      "source": [
        "plt.matshow(df_train_final.corr())\n",
        "plt.colorbar()\n",
        "plt.xticks(np.arange(len(df_train_final.corr().columns)), df_train_final.corr().columns.values, rotation = 45) \n",
        "plt.yticks(np.arange(len(df_train_final.corr().columns)), df_train_final.corr().columns.values) \n",
        "for (i, j), corr in np.ndenumerate(df_train_final.corr()):\n",
        "    plt.text(j, i, '{:0.1f}'.format(corr), ha='center', va='center', color='white', fontsize=14)"
      ],
      "execution_count": null,
      "outputs": [
        {
          "output_type": "display_data",
          "data": {
            "image/png": "[encoded data removed]",
            "text/plain": [
              "<Figure size 864x864 with 2 Axes>"
            ]
          },
          "metadata": {
            "tags": [],
            "needs_background": "light"
          }
        }
      ]
    },
    {
      "cell_type": "markdown",
      "metadata": {
        "id": "evJbg4T3Yh-z"
      },
      "source": [
        "As can be seen from the above correlation matrix, there isn't a strong linear relationship between any of the continuous features and the target variable. Also, because Final Weight has no relationship with the output class, we'll remove it later."
      ]
    },
    {
      "cell_type": "markdown",
      "metadata": {
        "id": "lyg9X5GCYoVN"
      },
      "source": [
        "### Age"
      ]
    },
    {
      "cell_type": "code",
      "metadata": {
        "colab": {
          "base_uri": "https://localhost:8080/",
          "height": 386
        },
        "id": "cK-zpsnCYi1I",
        "outputId": "1af2ceba-61c9-4776-bf00-c39ca68dd345"
      },
      "source": [
        "# median age of >50K group is higher and distribution for <=50K is not normally distributed (right-skewed)\n",
        "sns.displot(df_train_final, x=\"age\", hue=\"income\", kind=\"kde\", fill = True, common_norm=False) "
      ],
      "execution_count": null,
      "outputs": [
        {
          "output_type": "execute_result",
          "data": {
            "text/plain": [
              "<seaborn.axisgrid.FacetGrid at 0x7fc627d02f50>"
            ]
          },
          "metadata": {
            "tags": []
          },
          "execution_count": 21
        },
        {
          "output_type": "display_data",
          "data": {
            "image/png": "[encoded data removed]",
            "text/plain": [
              "<Figure size 404.5x360 with 1 Axes>"
            ]
          },
          "metadata": {
            "tags": [],
            "needs_background": "light"
          }
        }
      ]
    },
    {
      "cell_type": "code",
      "metadata": {
        "colab": {
          "base_uri": "https://localhost:8080/",
          "height": 592
        },
        "id": "7AkCwy04cH8U",
        "outputId": "90ee228d-121d-42e5-863a-1d2ce84ef27b"
      },
      "source": [
        "# This distribution plot shows the distribution of Age of people across the Data Set\n",
        "plt.rcParams['figure.figsize'] = [12, 8]\n",
        "sns.set(style = 'whitegrid')\n",
        "\n",
        "sns.distplot(df_train_final['age'], bins = 90, color = 'mediumslateblue')\n",
        "plt.ylabel(\"Distribution\", fontsize = 15)\n",
        "plt.xlabel(\"Age\", fontsize = 15)\n",
        "plt.margins(x = 0)\n",
        "\n",
        "print (\"The maximum age is\", df_train_final['age'].max())\n",
        "print (\"The minimum age is\", df_train_final['age'].min())"
      ],
      "execution_count": null,
      "outputs": [
        {
          "output_type": "stream",
          "text": [
            "/usr/local/lib/python3.7/dist-packages/seaborn/distributions.py:2557: FutureWarning: `distplot` is a deprecated function and will be removed in a future version. Please adapt your code to use either `displot` (a figure-level function with similar flexibility) or `histplot` (an axes-level function for histograms).\n",
            "  warnings.warn(msg, FutureWarning)\n"
          ],
          "name": "stderr"
        },
        {
          "output_type": "stream",
          "text": [
            "The maximum age is 90\n",
            "The minimum age is 17\n"
          ],
          "name": "stdout"
        },
        {
          "output_type": "display_data",
          "data": {
            "image/png": "[encoded data removed]",
            "text/plain": [
              "<Figure size 864x576 with 1 Axes>"
            ]
          },
          "metadata": {
            "tags": []
          }
        }
      ]
    },
    {
      "cell_type": "markdown",
      "metadata": {
        "id": "n51Laq6McMPs"
      },
      "source": [
        "Here, We'll bucket the age into separate bins.\n",
        "\n",
        "1. 0-25: Young\n",
        "2. 25-50: Adult\n",
        "3. 50-100: Old"
      ]
    },
    {
      "cell_type": "code",
      "metadata": {
        "id": "irG4Fq3XcNCR"
      },
      "source": [
        "df_train_final['age'] = pd.cut(df_train_final['age'], bins = [0, 25, 50, 100], labels = ['Young', 'Adult', 'Old'])\n",
        "df_test_final['age'] = pd.cut(df_test_final['age'], bins = [0, 25, 50, 100], labels = ['Young', 'Adult', 'Old'])"
      ],
      "execution_count": null,
      "outputs": []
    },
    {
      "cell_type": "code",
      "metadata": {
        "colab": {
          "base_uri": "https://localhost:8080/",
          "height": 519
        },
        "id": "FZG9iak2cRJ9",
        "outputId": "3c3a99d5-20ae-4a3e-db1d-a17c06f3b511"
      },
      "source": [
        "sns.countplot(x = 'age', hue = 'income', data = df_train_final)"
      ],
      "execution_count": null,
      "outputs": [
        {
          "output_type": "execute_result",
          "data": {
            "text/plain": [
              "<matplotlib.axes._subplots.AxesSubplot at 0x7fc61f632850>"
            ]
          },
          "metadata": {
            "tags": []
          },
          "execution_count": 24
        },
        {
          "output_type": "display_data",
          "data": {
            "image/png": "[encoded data removed]",
            "text/plain": [
              "<Figure size 864x576 with 1 Axes>"
            ]
          },
          "metadata": {
            "tags": []
          }
        }
      ]
    },
    {
      "cell_type": "markdown",
      "metadata": {
        "id": "TpS6mtuacUUH"
      },
      "source": [
        "It appears that there are relatively less Young people who have an income more than $50K."
      ]
    },
    {
      "cell_type": "markdown",
      "metadata": {
        "id": "tdxwMEfvcYD-"
      },
      "source": [
        "### Capital Gain and Capital Loss "
      ]
    },
    {
      "cell_type": "markdown",
      "metadata": {
        "id": "T0EY2FqCcdeE"
      },
      "source": [
        "Rather than having both Capital Gain and Capital Loss, we will use their difference as that is more relevant and gives the change."
      ]
    },
    {
      "cell_type": "code",
      "metadata": {
        "id": "vYsRykAocVba"
      },
      "source": [
        "#For Train Data\n",
        "df_train_final['capital-diff'] = df_train_final['capital-gain'] - df_train_final['capital-loss']\n",
        "df_train_final.drop(['capital-gain'], axis = 1, inplace = True)\n",
        "df_train_final.drop(['capital-loss'], axis = 1, inplace = True)\n",
        "\n",
        "#For Test Data\n",
        "df_test_final['capital-diff'] = df_test_final['capital-gain'] - df_test_final['capital-loss']\n",
        "df_test_final.drop(['capital-gain'], axis = 1, inplace = True)\n",
        "df_test_final.drop(['capital-loss'], axis = 1, inplace = True)"
      ],
      "execution_count": null,
      "outputs": []
    },
    {
      "cell_type": "code",
      "metadata": {
        "colab": {
          "base_uri": "https://localhost:8080/",
          "height": 502
        },
        "id": "Z9wqe0ZVcisd",
        "outputId": "e8292ba8-347a-4f25-dc91-85dc5d829bf2"
      },
      "source": [
        "#Train Data\n",
        "df_train_final['capital-diff'] = pd.cut(df_train_final['capital-diff'], bins = [-5000, 5000, 100000], labels = ['Minor', 'Major'])\n",
        "sns.countplot(x = 'capital-diff', hue = 'income', data = df_train_final)\n",
        "\n",
        "#Test Data\n",
        "df_test_final['capital-diff'] = pd.cut(df_test_final['capital-diff'], bins = [-5000, 5000, 100000], labels = ['Minor', 'Major'])\n"
      ],
      "execution_count": null,
      "outputs": [
        {
          "output_type": "display_data",
          "data": {
            "image/png": "[encoded data removed]",
            "text/plain": [
              "<Figure size 864x576 with 1 Axes>"
            ]
          },
          "metadata": {
            "tags": []
          }
        }
      ]
    },
    {
      "cell_type": "markdown",
      "metadata": {
        "id": "uZyiCVviclWn"
      },
      "source": [
        "On taking a look at the result, we can see that the for Minor there are more people with Income less than $$50k and for Major there are more people with Income greater than $50k . This is in complete agreement with the fact that people who have large Capital Gain compared to Capital Loss have Income more than $50k ."
      ]
    },
    {
      "cell_type": "markdown",
      "metadata": {
        "id": "DaUo7QDOdUqh"
      },
      "source": [
        "### Final Weight"
      ]
    },
    {
      "cell_type": "code",
      "metadata": {
        "colab": {
          "base_uri": "https://localhost:8080/",
          "height": 382
        },
        "id": "TONMub8Vcl69",
        "outputId": "432e29dd-28c4-4e16-c872-d96b9c9e4abf"
      },
      "source": [
        "#compare distributions of 'fnlwgt' with respect to two guages of income: <=50K and >50K \n",
        "sns.displot(df_train_final, x=\"fnlwgt\", hue=\"income\", stat=\"probability\", common_norm=False) #there is no significant difference"
      ],
      "execution_count": null,
      "outputs": [
        {
          "output_type": "execute_result",
          "data": {
            "text/plain": [
              "<seaborn.axisgrid.FacetGrid at 0x7fc61d3e7d90>"
            ]
          },
          "metadata": {
            "tags": []
          },
          "execution_count": 27
        },
        {
          "output_type": "display_data",
          "data": {
            "image/png": "[encoded data removed]",
            "text/plain": [
              "<Figure size 412.675x360 with 1 Axes>"
            ]
          },
          "metadata": {
            "tags": []
          }
        }
      ]
    },
    {
      "cell_type": "markdown",
      "metadata": {
        "id": "Oc2OE9lCdjpw"
      },
      "source": [
        "As seen above, there is no correlation between Income and Final Weight, so we will drop this column."
      ]
    },
    {
      "cell_type": "code",
      "metadata": {
        "id": "vn9RALEcdef1"
      },
      "source": [
        "#Train Data\n",
        "df_train_final.drop(['fnlwgt'], axis = 1, inplace = True)\n",
        "\n",
        "#Test Data\n",
        "df_test_final.drop(['fnlwgt'], axis = 1, inplace = True)"
      ],
      "execution_count": null,
      "outputs": []
    },
    {
      "cell_type": "markdown",
      "metadata": {
        "id": "0x11CMzsdo8g"
      },
      "source": [
        "### Hours per Week"
      ]
    },
    {
      "cell_type": "markdown",
      "metadata": {
        "id": "k9Q_xdJZdudW"
      },
      "source": [
        "Taking a look at the histogram for Hours per Week, we can see that the dataset is aligned around the center. we can still create buckets from this data. As usually, the work hours are close to 30-40 hours, we will create the buckets as 0-30, 30-40, and 40-100."
      ]
    },
    {
      "cell_type": "code",
      "metadata": {
        "id": "a9uBlWCidrEA"
      },
      "source": [
        "#Train Data\n",
        "df_train_final['hours-per-week'] = pd.cut(df_train_final['hours-per-week'], \n",
        "                                   bins = [0, 30, 40, 100], \n",
        "                                   labels = ['Lesser Hours', 'Normal Hours', 'Extra Hours'])\n",
        "#Test Data\n",
        "df_test_final['hours-per-week'] = pd.cut(df_test_final['hours-per-week'], \n",
        "                                   bins = [0, 30, 40, 100], \n",
        "                                   labels = ['Lesser Hours', 'Normal Hours', 'Extra Hours'])"
      ],
      "execution_count": null,
      "outputs": []
    },
    {
      "cell_type": "code",
      "metadata": {
        "colab": {
          "base_uri": "https://localhost:8080/",
          "height": 519
        },
        "id": "my9R_gLJdzUH",
        "outputId": "76328723-de64-413f-b2f7-c610764e4574"
      },
      "source": [
        "sns.countplot(x = 'hours-per-week', hue = 'income', data = df_train_final)"
      ],
      "execution_count": null,
      "outputs": [
        {
          "output_type": "execute_result",
          "data": {
            "text/plain": [
              "<matplotlib.axes._subplots.AxesSubplot at 0x7fc62767c4d0>"
            ]
          },
          "metadata": {
            "tags": []
          },
          "execution_count": 30
        },
        {
          "output_type": "display_data",
          "data": {
            "image/png": "[encoded data removed]",
            "text/plain": [
              "<Figure size 864x576 with 1 Axes>"
            ]
          },
          "metadata": {
            "tags": []
          }
        }
      ]
    },
    {
      "cell_type": "markdown",
      "metadata": {
        "id": "tKyk8qAWd2Ld"
      },
      "source": [
        "Taking a look at the plot above, we can see a trend. As the number of hours increase, the number of people earning more than $50K increases in comparison to the people earning less."
      ]
    },
    {
      "cell_type": "markdown",
      "metadata": {
        "id": "_yaGqrAmd5op"
      },
      "source": [
        "### Work Class"
      ]
    },
    {
      "cell_type": "code",
      "metadata": {
        "colab": {
          "base_uri": "https://localhost:8080/",
          "height": 519
        },
        "id": "p5xGvQXpd2tw",
        "outputId": "75d7d3b9-8d06-439b-e7cf-9d1f632cece8"
      },
      "source": [
        "sns.countplot(x = 'workclass', hue = 'income', data = df_train_final)"
      ],
      "execution_count": null,
      "outputs": [
        {
          "output_type": "execute_result",
          "data": {
            "text/plain": [
              "<matplotlib.axes._subplots.AxesSubplot at 0x7fc61d196350>"
            ]
          },
          "metadata": {
            "tags": []
          },
          "execution_count": 31
        },
        {
          "output_type": "display_data",
          "data": {
            "image/png": "[encoded data removed]",
            "text/plain": [
              "<Figure size 864x576 with 1 Axes>"
            ]
          },
          "metadata": {
            "tags": []
          }
        }
      ]
    },
    {
      "cell_type": "markdown",
      "metadata": {
        "id": "-AIQrOtaeCVH"
      },
      "source": [
        "The two values Without-pay and Never-worked are negligible and hence it is safe to drop them."
      ]
    },
    {
      "cell_type": "code",
      "metadata": {
        "id": "JgJgddlxeCz9"
      },
      "source": [
        "\n",
        "df_train_final = df_train_final.drop(df_train_final[df_train_final['workclass'] == ' Without-pay'].index)\n",
        "df_train_final = df_train_final.drop(df_train_final[df_train_final['workclass'] == ' Never-worked'].index)\n",
        "\n",
        "\n",
        "df_test_final = df_test_final.drop(df_test_final[df_test_final['workclass'] == ' Without-pay'].index)\n",
        "df_test_final = df_test_final.drop(df_test_final[df_test_final['workclass'] == ' Never-worked'].index)"
      ],
      "execution_count": null,
      "outputs": []
    },
    {
      "cell_type": "markdown",
      "metadata": {
        "id": "fqBrWYZ4eIwf"
      },
      "source": [
        "### Education and Education Number"
      ]
    },
    {
      "cell_type": "markdown",
      "metadata": {
        "id": "xd5W6EHGeMWM"
      },
      "source": [
        "Now we will check the relation between Education and Education Number "
      ]
    },
    {
      "cell_type": "code",
      "metadata": {
        "colab": {
          "base_uri": "https://localhost:8080/",
          "height": 519
        },
        "id": "c3Jg_YT6eKLw",
        "outputId": "05fc78b4-ab72-463a-d7d4-e2401fabb530"
      },
      "source": [
        "sns.countplot(x = 'education', hue = 'income', data = df_train_final)"
      ],
      "execution_count": null,
      "outputs": [
        {
          "output_type": "execute_result",
          "data": {
            "text/plain": [
              "<matplotlib.axes._subplots.AxesSubplot at 0x7fc6277245d0>"
            ]
          },
          "metadata": {
            "tags": []
          },
          "execution_count": 33
        },
        {
          "output_type": "display_data",
          "data": {
            "image/png": "[encoded data removed]",
            "text/plain": [
              "<Figure size 864x576 with 1 Axes>"
            ]
          },
          "metadata": {
            "tags": []
          }
        }
      ]
    },
    {
      "cell_type": "code",
      "metadata": {
        "colab": {
          "base_uri": "https://localhost:8080/"
        },
        "id": "vBHxBRHGeQgx",
        "outputId": "e8d1e39e-9700-4dfa-b035-86e191735de5"
      },
      "source": [
        "education_sets = df_train_final['education'].unique()\n",
        "for edu_class in education_sets:\n",
        "    print(\"For {}, the Education Number is {}\"\n",
        "          .format(edu_class, df_train_final[df_train_final['education'] == edu_class]['education-num'].unique()))"
      ],
      "execution_count": null,
      "outputs": [
        {
          "output_type": "stream",
          "text": [
            "For  Bachelors, the Education Number is [13]\n",
            "For  HS-grad, the Education Number is [9]\n",
            "For  11th, the Education Number is [7]\n",
            "For  Masters, the Education Number is [14]\n",
            "For  9th, the Education Number is [5]\n",
            "For  Some-college, the Education Number is [10]\n",
            "For  Assoc-acdm, the Education Number is [12]\n",
            "For  Assoc-voc, the Education Number is [11]\n",
            "For  7th-8th, the Education Number is [4]\n",
            "For  Doctorate, the Education Number is [16]\n",
            "For  Prof-school, the Education Number is [15]\n",
            "For  5th-6th, the Education Number is [3]\n",
            "For  10th, the Education Number is [6]\n",
            "For  1st-4th, the Education Number is [2]\n",
            "For  Preschool, the Education Number is [1]\n",
            "For  12th, the Education Number is [8]\n"
          ],
          "name": "stdout"
        }
      ]
    },
    {
      "cell_type": "markdown",
      "metadata": {
        "id": "xJ46s-GHeTVK"
      },
      "source": [
        "From the analysis above, we discovered that Education Number and Education are just the same. So, we can drop any one column. "
      ]
    },
    {
      "cell_type": "code",
      "metadata": {
        "id": "Hn4Q2fwCeT1i"
      },
      "source": [
        "df_train_final.drop(['education'], axis = 1, inplace = True)\n",
        "df_test_final.drop(['education'], axis = 1, inplace = True)"
      ],
      "execution_count": null,
      "outputs": []
    },
    {
      "cell_type": "markdown",
      "metadata": {
        "id": "msLTCMGjecWI"
      },
      "source": [
        "### Marital Status and Relationship"
      ]
    },
    {
      "cell_type": "code",
      "metadata": {
        "colab": {
          "base_uri": "https://localhost:8080/"
        },
        "id": "fe7tuzmTeeIV",
        "outputId": "9fc01af1-3d98-4bd3-bdc3-419ed8fc3c24"
      },
      "source": [
        "df_train_final['marital-status'].value_counts()"
      ],
      "execution_count": null,
      "outputs": [
        {
          "output_type": "execute_result",
          "data": {
            "text/plain": [
              " Married-civ-spouse       10414\n",
              " Never-married             7468\n",
              " Divorced                  3130\n",
              " Separated                  707\n",
              " Widowed                    693\n",
              " Married-spouse-absent      305\n",
              " Married-AF-spouse           15\n",
              "Name: marital-status, dtype: int64"
            ]
          },
          "metadata": {
            "tags": []
          },
          "execution_count": 36
        }
      ]
    },
    {
      "cell_type": "code",
      "metadata": {
        "colab": {
          "base_uri": "https://localhost:8080/"
        },
        "id": "-yBArGnYehS3",
        "outputId": "395067c3-2e46-4c90-cdc7-3b6b32eb2684"
      },
      "source": [
        "df_train_final['relationship'].value_counts()"
      ],
      "execution_count": null,
      "outputs": [
        {
          "output_type": "execute_result",
          "data": {
            "text/plain": [
              " Husband           9148\n",
              " Not-in-family     5888\n",
              " Own-child         3524\n",
              " Unmarried         2379\n",
              " Wife              1117\n",
              " Other-relative     676\n",
              "Name: relationship, dtype: int64"
            ]
          },
          "metadata": {
            "tags": []
          },
          "execution_count": 37
        }
      ]
    },
    {
      "cell_type": "markdown",
      "metadata": {
        "id": "UrO_sA6Cemw_"
      },
      "source": [
        "There is some overlap between the two, for example, if a person is married to his or her spouse, their marital status is Married. We'll preserve both of these columns, though, because there's no complete overlap."
      ]
    },
    {
      "cell_type": "markdown",
      "metadata": {
        "id": "rKdu-qGTep7n"
      },
      "source": [
        "### Occupation"
      ]
    },
    {
      "cell_type": "code",
      "metadata": {
        "colab": {
          "base_uri": "https://localhost:8080/",
          "height": 591
        },
        "id": "mjOiTfS0enQA",
        "outputId": "60034c25-ab95-4d51-8788-94c678ece688"
      },
      "source": [
        "plt.xticks(rotation = 45)\n",
        "sns.countplot(x = 'occupation', hue = 'income', data = df_train_final)"
      ],
      "execution_count": null,
      "outputs": [
        {
          "output_type": "execute_result",
          "data": {
            "text/plain": [
              "<matplotlib.axes._subplots.AxesSubplot at 0x7fc61d02f590>"
            ]
          },
          "metadata": {
            "tags": []
          },
          "execution_count": 38
        },
        {
          "output_type": "display_data",
          "data": {
            "image/png": "[encoded data removed]",
            "text/plain": [
              "<Figure size 864x576 with 1 Axes>"
            ]
          },
          "metadata": {
            "tags": []
          }
        }
      ]
    },
    {
      "cell_type": "markdown",
      "metadata": {
        "id": "4vKuktANev61"
      },
      "source": [
        "The categories have already been uniquely defined and we can keep it as is."
      ]
    },
    {
      "cell_type": "markdown",
      "metadata": {
        "id": "EtAt5Jq8eyzf"
      },
      "source": [
        "### Race"
      ]
    },
    {
      "cell_type": "code",
      "metadata": {
        "colab": {
          "base_uri": "https://localhost:8080/",
          "height": 519
        },
        "id": "1lbo1L1Wewa7",
        "outputId": "673c2a5f-bf48-44fc-f494-36c2c9d9e101"
      },
      "source": [
        "sns.countplot(x = 'race', hue = 'income', data = df_train_final)"
      ],
      "execution_count": null,
      "outputs": [
        {
          "output_type": "execute_result",
          "data": {
            "text/plain": [
              "<matplotlib.axes._subplots.AxesSubplot at 0x7fc61cfab4d0>"
            ]
          },
          "metadata": {
            "tags": []
          },
          "execution_count": 39
        },
        {
          "output_type": "display_data",
          "data": {
            "image/png": "[encoded data removed]",
            "text/plain": [
              "<Figure size 864x576 with 1 Axes>"
            ]
          },
          "metadata": {
            "tags": []
          }
        }
      ]
    },
    {
      "cell_type": "markdown",
      "metadata": {
        "id": "JKdqXMCKe8u4"
      },
      "source": [
        "The dataset contains the majority of data on the White race, with information on the other races being sparse. I'll group all other race data into a single category called Other."
      ]
    },
    {
      "cell_type": "markdown",
      "metadata": {
        "id": "Ks22MlFQe_16"
      },
      "source": [
        "### Sex"
      ]
    },
    {
      "cell_type": "code",
      "metadata": {
        "colab": {
          "base_uri": "https://localhost:8080/",
          "height": 519
        },
        "id": "Xe9vpLZae9SX",
        "outputId": "dde961d3-2623-42a7-a134-6575c785661a"
      },
      "source": [
        "sns.countplot(x = 'sex', hue = 'income', data = df_train_final)"
      ],
      "execution_count": null,
      "outputs": [
        {
          "output_type": "execute_result",
          "data": {
            "text/plain": [
              "<matplotlib.axes._subplots.AxesSubplot at 0x7fc61cebca50>"
            ]
          },
          "metadata": {
            "tags": []
          },
          "execution_count": 40
        },
        {
          "output_type": "display_data",
          "data": {
            "image/png": "[encoded data removed]",
            "text/plain": [
              "<Figure size 864x576 with 1 Axes>"
            ]
          },
          "metadata": {
            "tags": []
          }
        }
      ]
    },
    {
      "cell_type": "markdown",
      "metadata": {
        "id": "EHUZeB4KfIUg"
      },
      "source": [
        "It is evident from the diagram above that:\n",
        "\n",
        "- There are more men than women among the participants.When we compare the two genders and their respective income distributions, we find that males have a higher percentage of income over $50,000 than females."
      ]
    },
    {
      "cell_type": "markdown",
      "metadata": {
        "id": "qChfGC_vfL1B"
      },
      "source": [
        "### Country"
      ]
    },
    {
      "cell_type": "code",
      "metadata": {
        "colab": {
          "base_uri": "https://localhost:8080/"
        },
        "id": "xkL1RORifJbf",
        "outputId": "41db0309-1fe1-4f0d-b5a6-f9ea7f6785b4"
      },
      "source": [
        "country_sum = df_train_final['native-country'].value_counts()\n",
        "country_sum"
      ],
      "execution_count": null,
      "outputs": [
        {
          "output_type": "execute_result",
          "data": {
            "text/plain": [
              " United-States                 20770\n",
              " Mexico                          440\n",
              " Philippines                     139\n",
              " Germany                          94\n",
              " Canada                           92\n",
              " Puerto-Rico                      88\n",
              " England                          69\n",
              " Cuba                             68\n",
              " El-Salvador                      65\n",
              " South                            59\n",
              " India                            59\n",
              " Jamaica                          55\n",
              " China                            54\n",
              " Italy                            50\n",
              " Guatemala                        49\n",
              " Dominican-Republic               49\n",
              " Poland                           47\n",
              " Vietnam                          47\n",
              " Japan                            45\n",
              " Columbia                         39\n",
              " Taiwan                           37\n",
              " Haiti                            36\n",
              " Iran                             34\n",
              " Portugal                         27\n",
              " Greece                           22\n",
              " Nicaragua                        22\n",
              " Ireland                          19\n",
              " Ecuador                          19\n",
              " France                           19\n",
              " Peru                             18\n",
              " Cambodia                         16\n",
              " Thailand                         14\n",
              " Hong                             10\n",
              " Yugoslavia                       10\n",
              " Hungary                           9\n",
              " Scotland                          9\n",
              " Trinadad&Tobago                   9\n",
              " Honduras                          8\n",
              " Outlying-US(Guam-USVI-etc)        8\n",
              " Laos                              7\n",
              " Holand-Netherlands                1\n",
              "Name: native-country, dtype: int64"
            ]
          },
          "metadata": {
            "tags": []
          },
          "execution_count": 41
        }
      ]
    },
    {
      "cell_type": "code",
      "metadata": {
        "colab": {
          "base_uri": "https://localhost:8080/",
          "height": 687
        },
        "id": "LrgOx7UWfRcO",
        "outputId": "f74aa8e5-bb67-4158-c83c-667bdb9ad3aa"
      },
      "source": [
        "plt.bar(country_sum.index, country_sum.values)\n",
        "plt.xticks(rotation = 90)\n",
        "plt.xlabel('Countries')\n",
        "plt.ylabel('Count')\n",
        "plt.title('Total adults from each Country')"
      ],
      "execution_count": null,
      "outputs": [
        {
          "output_type": "execute_result",
          "data": {
            "text/plain": [
              "Text(0.5, 1.0, 'Total adults from each Country')"
            ]
          },
          "metadata": {
            "tags": []
          },
          "execution_count": 42
        },
        {
          "output_type": "display_data",
          "data": {
            "image/png": "[encoded data removed]",
            "text/plain": [
              "<Figure size 864x576 with 1 Axes>"
            ]
          },
          "metadata": {
            "tags": []
          }
        }
      ]
    },
    {
      "cell_type": "markdown",
      "metadata": {
        "id": "v9cBdCtRfT-6"
      },
      "source": [
        "The adults are mostly from the United States. As a result, we can assign values to the column as either United States or Other."
      ]
    },
    {
      "cell_type": "code",
      "metadata": {
        "id": "ey2MTQfAfUg1"
      },
      "source": [
        "countries_train = np.array(df_train_final['native-country'].unique())\n",
        "countries_train = np.delete(countries_train, 0)\n",
        "\n",
        "countries_test = np.array(df_test_final['native-country'].unique())\n",
        "countries_test = np.delete(countries_test, 0)"
      ],
      "execution_count": null,
      "outputs": []
    },
    {
      "cell_type": "code",
      "metadata": {
        "id": "8DIa-G1NfYkh"
      },
      "source": [
        "df_train_final['native-country'].replace(countries_train, 'Other', inplace = True)\n",
        "\n",
        "df_test_final['native-country'].replace(countries_test, 'Other', inplace = True)"
      ],
      "execution_count": null,
      "outputs": []
    },
    {
      "cell_type": "code",
      "metadata": {
        "colab": {
          "base_uri": "https://localhost:8080/",
          "height": 519
        },
        "id": "7lUtO1qcfb1R",
        "outputId": "29a20980-4e98-4fe0-b9e0-08ea37b1811e"
      },
      "source": [
        "sns.countplot(y = 'native-country', hue = 'income', data = df_train_final)"
      ],
      "execution_count": null,
      "outputs": [
        {
          "output_type": "execute_result",
          "data": {
            "text/plain": [
              "<matplotlib.axes._subplots.AxesSubplot at 0x7fc61d2818d0>"
            ]
          },
          "metadata": {
            "tags": []
          },
          "execution_count": 45
        },
        {
          "output_type": "display_data",
          "data": {
            "image/png": "[encoded data removed]",
            "text/plain": [
              "<Figure size 864x576 with 1 Axes>"
            ]
          },
          "metadata": {
            "tags": []
          }
        }
      ]
    },
    {
      "cell_type": "markdown",
      "metadata": {
        "id": "DMV2aCKgffC4"
      },
      "source": [
        "# Model Selection "
      ]
    },
    {
      "cell_type": "code",
      "metadata": {
        "id": "frPVM8Ntfi9I"
      },
      "source": [
        "# Re-arranging the columns\n",
        "df_train_final = df_train_final[[\"age\", \"workclass\",    \"education-num\",    \"marital-status\",    \"occupation\",    \"relationship\",    \"race\",    \"sex\",    \"hours-per-week\",    \"native-country\", \"capital-diff\",\"income\"]]\n",
        "df_test_final = df_test_final[[\"age\", \"workclass\",    \"education-num\",    \"marital-status\",    \"occupation\",    \"relationship\",    \"race\",    \"sex\",    \"hours-per-week\",    \"native-country\", \"capital-diff\",\"income\"]]"
      ],
      "execution_count": null,
      "outputs": []
    },
    {
      "cell_type": "code",
      "metadata": {
        "id": "b25fNuR6fzJ6"
      },
      "source": [
        "# Splitting the data\n",
        "X_train = df_train_final.drop(['income'], axis=1)\n",
        "y_train = df_train_final['income']\n",
        "\n",
        "X_test = df_test_final.drop(['income'], axis=1)\n",
        "y_test = df_test_final['income']"
      ],
      "execution_count": null,
      "outputs": []
    },
    {
      "cell_type": "code",
      "metadata": {
        "id": "gpLoF-Lif8eS"
      },
      "source": [
        "categorical = ['age','workclass', 'marital-status', 'occupation', 'relationship', 'race', 'sex','hours-per-week', 'native-country','capital-diff']\n",
        "for feature in categorical:\n",
        "        le = preprocessing.LabelEncoder()\n",
        "        X_train[feature] = le.fit_transform(X_train[feature])\n",
        "        X_test[feature] = le.transform(X_test[feature])"
      ],
      "execution_count": null,
      "outputs": []
    },
    {
      "cell_type": "code",
      "metadata": {
        "id": "9YoGJuWsxMsA"
      },
      "source": [
        "categorical_final = ['age','workclass', 'marital-status', 'occupation', 'relationship', 'race', 'sex','hours-per-week', 'native-country','capital-diff']\n",
        "for feature in categorical_final:\n",
        "        le = preprocessing.LabelEncoder()\n",
        "        df_train_final[feature] = le.fit_transform(df_train_final[feature])"
      ],
      "execution_count": null,
      "outputs": []
    },
    {
      "cell_type": "code",
      "metadata": {
        "colab": {
          "base_uri": "https://localhost:8080/",
          "height": 419
        },
        "id": "wIKh1avFgYRU",
        "outputId": "e3d0f12b-b8c0-4a3e-f244-5c759e14acac"
      },
      "source": [
        "X_train"
      ],
      "execution_count": null,
      "outputs": [
        {
          "output_type": "execute_result",
          "data": {
            "text/html": [
              "<div>\n",
              "<style scoped>\n",
              "    .dataframe tbody tr th:only-of-type {\n",
              "        vertical-align: middle;\n",
              "    }\n",
              "\n",
              "    .dataframe tbody tr th {\n",
              "        vertical-align: top;\n",
              "    }\n",
              "\n",
              "    .dataframe thead th {\n",
              "        text-align: right;\n",
              "    }\n",
              "</style>\n",
              "<table border=\"1\" class=\"dataframe\">\n",
              "  <thead>\n",
              "    <tr style=\"text-align: right;\">\n",
              "      <th></th>\n",
              "      <th>age</th>\n",
              "      <th>workclass</th>\n",
              "      <th>education-num</th>\n",
              "      <th>marital-status</th>\n",
              "      <th>occupation</th>\n",
              "      <th>relationship</th>\n",
              "      <th>race</th>\n",
              "      <th>sex</th>\n",
              "      <th>hours-per-week</th>\n",
              "      <th>native-country</th>\n",
              "      <th>capital-diff</th>\n",
              "    </tr>\n",
              "  </thead>\n",
              "  <tbody>\n",
              "    <tr>\n",
              "      <th>0</th>\n",
              "      <td>0</td>\n",
              "      <td>4</td>\n",
              "      <td>13</td>\n",
              "      <td>2</td>\n",
              "      <td>3</td>\n",
              "      <td>0</td>\n",
              "      <td>4</td>\n",
              "      <td>1</td>\n",
              "      <td>1</td>\n",
              "      <td>0</td>\n",
              "      <td>1</td>\n",
              "    </tr>\n",
              "    <tr>\n",
              "      <th>1</th>\n",
              "      <td>0</td>\n",
              "      <td>2</td>\n",
              "      <td>9</td>\n",
              "      <td>0</td>\n",
              "      <td>5</td>\n",
              "      <td>1</td>\n",
              "      <td>4</td>\n",
              "      <td>1</td>\n",
              "      <td>2</td>\n",
              "      <td>0</td>\n",
              "      <td>1</td>\n",
              "    </tr>\n",
              "    <tr>\n",
              "      <th>2</th>\n",
              "      <td>1</td>\n",
              "      <td>2</td>\n",
              "      <td>7</td>\n",
              "      <td>2</td>\n",
              "      <td>5</td>\n",
              "      <td>0</td>\n",
              "      <td>2</td>\n",
              "      <td>1</td>\n",
              "      <td>2</td>\n",
              "      <td>0</td>\n",
              "      <td>1</td>\n",
              "    </tr>\n",
              "    <tr>\n",
              "      <th>3</th>\n",
              "      <td>0</td>\n",
              "      <td>2</td>\n",
              "      <td>13</td>\n",
              "      <td>2</td>\n",
              "      <td>9</td>\n",
              "      <td>5</td>\n",
              "      <td>2</td>\n",
              "      <td>0</td>\n",
              "      <td>2</td>\n",
              "      <td>1</td>\n",
              "      <td>1</td>\n",
              "    </tr>\n",
              "    <tr>\n",
              "      <th>4</th>\n",
              "      <td>0</td>\n",
              "      <td>2</td>\n",
              "      <td>14</td>\n",
              "      <td>2</td>\n",
              "      <td>3</td>\n",
              "      <td>5</td>\n",
              "      <td>4</td>\n",
              "      <td>0</td>\n",
              "      <td>2</td>\n",
              "      <td>0</td>\n",
              "      <td>1</td>\n",
              "    </tr>\n",
              "    <tr>\n",
              "      <th>...</th>\n",
              "      <td>...</td>\n",
              "      <td>...</td>\n",
              "      <td>...</td>\n",
              "      <td>...</td>\n",
              "      <td>...</td>\n",
              "      <td>...</td>\n",
              "      <td>...</td>\n",
              "      <td>...</td>\n",
              "      <td>...</td>\n",
              "      <td>...</td>\n",
              "      <td>...</td>\n",
              "    </tr>\n",
              "    <tr>\n",
              "      <th>22739</th>\n",
              "      <td>2</td>\n",
              "      <td>2</td>\n",
              "      <td>9</td>\n",
              "      <td>4</td>\n",
              "      <td>11</td>\n",
              "      <td>3</td>\n",
              "      <td>2</td>\n",
              "      <td>1</td>\n",
              "      <td>2</td>\n",
              "      <td>0</td>\n",
              "      <td>1</td>\n",
              "    </tr>\n",
              "    <tr>\n",
              "      <th>22740</th>\n",
              "      <td>2</td>\n",
              "      <td>2</td>\n",
              "      <td>10</td>\n",
              "      <td>4</td>\n",
              "      <td>0</td>\n",
              "      <td>3</td>\n",
              "      <td>4</td>\n",
              "      <td>0</td>\n",
              "      <td>2</td>\n",
              "      <td>0</td>\n",
              "      <td>1</td>\n",
              "    </tr>\n",
              "    <tr>\n",
              "      <th>22741</th>\n",
              "      <td>0</td>\n",
              "      <td>2</td>\n",
              "      <td>9</td>\n",
              "      <td>4</td>\n",
              "      <td>0</td>\n",
              "      <td>3</td>\n",
              "      <td>4</td>\n",
              "      <td>1</td>\n",
              "      <td>2</td>\n",
              "      <td>0</td>\n",
              "      <td>1</td>\n",
              "    </tr>\n",
              "    <tr>\n",
              "      <th>22742</th>\n",
              "      <td>0</td>\n",
              "      <td>2</td>\n",
              "      <td>9</td>\n",
              "      <td>2</td>\n",
              "      <td>10</td>\n",
              "      <td>0</td>\n",
              "      <td>4</td>\n",
              "      <td>1</td>\n",
              "      <td>2</td>\n",
              "      <td>0</td>\n",
              "      <td>1</td>\n",
              "    </tr>\n",
              "    <tr>\n",
              "      <th>22743</th>\n",
              "      <td>0</td>\n",
              "      <td>4</td>\n",
              "      <td>9</td>\n",
              "      <td>2</td>\n",
              "      <td>2</td>\n",
              "      <td>0</td>\n",
              "      <td>4</td>\n",
              "      <td>1</td>\n",
              "      <td>0</td>\n",
              "      <td>0</td>\n",
              "      <td>1</td>\n",
              "    </tr>\n",
              "  </tbody>\n",
              "</table>\n",
              "<p>22732 rows × 11 columns</p>\n",
              "</div>"
            ],
            "text/plain": [
              "       age  workclass  ...  native-country  capital-diff\n",
              "0        0          4  ...               0             1\n",
              "1        0          2  ...               0             1\n",
              "2        1          2  ...               0             1\n",
              "3        0          2  ...               1             1\n",
              "4        0          2  ...               0             1\n",
              "...    ...        ...  ...             ...           ...\n",
              "22739    2          2  ...               0             1\n",
              "22740    2          2  ...               0             1\n",
              "22741    0          2  ...               0             1\n",
              "22742    0          2  ...               0             1\n",
              "22743    0          4  ...               0             1\n",
              "\n",
              "[22732 rows x 11 columns]"
            ]
          },
          "metadata": {
            "tags": []
          },
          "execution_count": 47
        }
      ]
    },
    {
      "cell_type": "code",
      "metadata": {
        "colab": {
          "base_uri": "https://localhost:8080/"
        },
        "id": "ODqJuExIhWkL",
        "outputId": "6b91c06b-0fbb-48b5-d38e-5de11091ec33"
      },
      "source": [
        "y_test"
      ],
      "execution_count": null,
      "outputs": [
        {
          "output_type": "execute_result",
          "data": {
            "text/plain": [
              "0       0\n",
              "1       0\n",
              "2       1\n",
              "3       1\n",
              "4       0\n",
              "       ..\n",
              "9810    0\n",
              "9811    1\n",
              "9812    0\n",
              "9813    0\n",
              "9814    1\n",
              "Name: income, Length: 9806, dtype: int64"
            ]
          },
          "metadata": {
            "tags": []
          },
          "execution_count": 48
        }
      ]
    },
    {
      "cell_type": "markdown",
      "metadata": {
        "id": "I1JgdGmxkYdn"
      },
      "source": [
        "## GridSearch Method"
      ]
    },
    {
      "cell_type": "code",
      "metadata": {
        "colab": {
          "base_uri": "https://localhost:8080/",
          "height": 419
        },
        "id": "65vtbLFXw1ja",
        "outputId": "5d70fafa-d829-4959-ea34-fc75bdd44160"
      },
      "source": [
        "df_train_final"
      ],
      "execution_count": null,
      "outputs": [
        {
          "output_type": "execute_result",
          "data": {
            "text/html": [
              "<div>\n",
              "<style scoped>\n",
              "    .dataframe tbody tr th:only-of-type {\n",
              "        vertical-align: middle;\n",
              "    }\n",
              "\n",
              "    .dataframe tbody tr th {\n",
              "        vertical-align: top;\n",
              "    }\n",
              "\n",
              "    .dataframe thead th {\n",
              "        text-align: right;\n",
              "    }\n",
              "</style>\n",
              "<table border=\"1\" class=\"dataframe\">\n",
              "  <thead>\n",
              "    <tr style=\"text-align: right;\">\n",
              "      <th></th>\n",
              "      <th>age</th>\n",
              "      <th>workclass</th>\n",
              "      <th>education-num</th>\n",
              "      <th>marital-status</th>\n",
              "      <th>occupation</th>\n",
              "      <th>relationship</th>\n",
              "      <th>race</th>\n",
              "      <th>sex</th>\n",
              "      <th>hours-per-week</th>\n",
              "      <th>native-country</th>\n",
              "      <th>capital-diff</th>\n",
              "      <th>income</th>\n",
              "    </tr>\n",
              "  </thead>\n",
              "  <tbody>\n",
              "    <tr>\n",
              "      <th>0</th>\n",
              "      <td>0</td>\n",
              "      <td>4</td>\n",
              "      <td>13</td>\n",
              "      <td>2</td>\n",
              "      <td>3</td>\n",
              "      <td>0</td>\n",
              "      <td>4</td>\n",
              "      <td>1</td>\n",
              "      <td>1</td>\n",
              "      <td>0</td>\n",
              "      <td>1</td>\n",
              "      <td>0</td>\n",
              "    </tr>\n",
              "    <tr>\n",
              "      <th>1</th>\n",
              "      <td>0</td>\n",
              "      <td>2</td>\n",
              "      <td>9</td>\n",
              "      <td>0</td>\n",
              "      <td>5</td>\n",
              "      <td>1</td>\n",
              "      <td>4</td>\n",
              "      <td>1</td>\n",
              "      <td>2</td>\n",
              "      <td>0</td>\n",
              "      <td>1</td>\n",
              "      <td>0</td>\n",
              "    </tr>\n",
              "    <tr>\n",
              "      <th>2</th>\n",
              "      <td>1</td>\n",
              "      <td>2</td>\n",
              "      <td>7</td>\n",
              "      <td>2</td>\n",
              "      <td>5</td>\n",
              "      <td>0</td>\n",
              "      <td>2</td>\n",
              "      <td>1</td>\n",
              "      <td>2</td>\n",
              "      <td>0</td>\n",
              "      <td>1</td>\n",
              "      <td>0</td>\n",
              "    </tr>\n",
              "    <tr>\n",
              "      <th>3</th>\n",
              "      <td>0</td>\n",
              "      <td>2</td>\n",
              "      <td>13</td>\n",
              "      <td>2</td>\n",
              "      <td>9</td>\n",
              "      <td>5</td>\n",
              "      <td>2</td>\n",
              "      <td>0</td>\n",
              "      <td>2</td>\n",
              "      <td>1</td>\n",
              "      <td>1</td>\n",
              "      <td>0</td>\n",
              "    </tr>\n",
              "    <tr>\n",
              "      <th>4</th>\n",
              "      <td>0</td>\n",
              "      <td>2</td>\n",
              "      <td>14</td>\n",
              "      <td>2</td>\n",
              "      <td>3</td>\n",
              "      <td>5</td>\n",
              "      <td>4</td>\n",
              "      <td>0</td>\n",
              "      <td>2</td>\n",
              "      <td>0</td>\n",
              "      <td>1</td>\n",
              "      <td>0</td>\n",
              "    </tr>\n",
              "    <tr>\n",
              "      <th>...</th>\n",
              "      <td>...</td>\n",
              "      <td>...</td>\n",
              "      <td>...</td>\n",
              "      <td>...</td>\n",
              "      <td>...</td>\n",
              "      <td>...</td>\n",
              "      <td>...</td>\n",
              "      <td>...</td>\n",
              "      <td>...</td>\n",
              "      <td>...</td>\n",
              "      <td>...</td>\n",
              "      <td>...</td>\n",
              "    </tr>\n",
              "    <tr>\n",
              "      <th>22739</th>\n",
              "      <td>2</td>\n",
              "      <td>2</td>\n",
              "      <td>9</td>\n",
              "      <td>4</td>\n",
              "      <td>11</td>\n",
              "      <td>3</td>\n",
              "      <td>2</td>\n",
              "      <td>1</td>\n",
              "      <td>2</td>\n",
              "      <td>0</td>\n",
              "      <td>1</td>\n",
              "      <td>0</td>\n",
              "    </tr>\n",
              "    <tr>\n",
              "      <th>22740</th>\n",
              "      <td>2</td>\n",
              "      <td>2</td>\n",
              "      <td>10</td>\n",
              "      <td>4</td>\n",
              "      <td>0</td>\n",
              "      <td>3</td>\n",
              "      <td>4</td>\n",
              "      <td>0</td>\n",
              "      <td>2</td>\n",
              "      <td>0</td>\n",
              "      <td>1</td>\n",
              "      <td>0</td>\n",
              "    </tr>\n",
              "    <tr>\n",
              "      <th>22741</th>\n",
              "      <td>0</td>\n",
              "      <td>2</td>\n",
              "      <td>9</td>\n",
              "      <td>4</td>\n",
              "      <td>0</td>\n",
              "      <td>3</td>\n",
              "      <td>4</td>\n",
              "      <td>1</td>\n",
              "      <td>2</td>\n",
              "      <td>0</td>\n",
              "      <td>1</td>\n",
              "      <td>0</td>\n",
              "    </tr>\n",
              "    <tr>\n",
              "      <th>22742</th>\n",
              "      <td>0</td>\n",
              "      <td>2</td>\n",
              "      <td>9</td>\n",
              "      <td>2</td>\n",
              "      <td>10</td>\n",
              "      <td>0</td>\n",
              "      <td>4</td>\n",
              "      <td>1</td>\n",
              "      <td>2</td>\n",
              "      <td>0</td>\n",
              "      <td>1</td>\n",
              "      <td>0</td>\n",
              "    </tr>\n",
              "    <tr>\n",
              "      <th>22743</th>\n",
              "      <td>0</td>\n",
              "      <td>4</td>\n",
              "      <td>9</td>\n",
              "      <td>2</td>\n",
              "      <td>2</td>\n",
              "      <td>0</td>\n",
              "      <td>4</td>\n",
              "      <td>1</td>\n",
              "      <td>0</td>\n",
              "      <td>0</td>\n",
              "      <td>1</td>\n",
              "      <td>0</td>\n",
              "    </tr>\n",
              "  </tbody>\n",
              "</table>\n",
              "<p>22732 rows × 12 columns</p>\n",
              "</div>"
            ],
            "text/plain": [
              "       age  workclass  education-num  ...  native-country  capital-diff  income\n",
              "0        0          4             13  ...               0             1       0\n",
              "1        0          2              9  ...               0             1       0\n",
              "2        1          2              7  ...               0             1       0\n",
              "3        0          2             13  ...               1             1       0\n",
              "4        0          2             14  ...               0             1       0\n",
              "...    ...        ...            ...  ...             ...           ...     ...\n",
              "22739    2          2              9  ...               0             1       0\n",
              "22740    2          2             10  ...               0             1       0\n",
              "22741    0          2              9  ...               0             1       0\n",
              "22742    0          2              9  ...               0             1       0\n",
              "22743    0          4              9  ...               0             1       0\n",
              "\n",
              "[22732 rows x 12 columns]"
            ]
          },
          "metadata": {
            "tags": []
          },
          "execution_count": 49
        }
      ]
    },
    {
      "cell_type": "code",
      "metadata": {
        "colab": {
          "base_uri": "https://localhost:8080/",
          "height": 151
        },
        "id": "Qp7eBY1PkT53",
        "outputId": "05357bff-b234-493b-a6dd-dc7031ffaf3f"
      },
      "source": [
        "#Grid Search for KNN\n",
        "\n",
        "p={'n_neighbors':np.arange(1,50), 'metric': ['euclidean', 'manhattan'], 'weights': ['uniform', 'distance']}\n",
        "knn=KNeighborsClassifier()\n",
        "x_knn=GridSearchCV(knn, p, cv=5, scoring='accuracy')\n",
        "\n",
        "x_knn.fit(df_train_final.iloc[:, :-1], df_train_final.iloc[:, -1])\n",
        "\n",
        "results_knn = pd.DataFrame(x_knn.cv_results_)\n",
        "results_knn[results_knn['rank_test_score']==1]"
      ],
      "execution_count": null,
      "outputs": [
        {
          "output_type": "execute_result",
          "data": {
            "text/html": [
              "<div>\n",
              "<style scoped>\n",
              "    .dataframe tbody tr th:only-of-type {\n",
              "        vertical-align: middle;\n",
              "    }\n",
              "\n",
              "    .dataframe tbody tr th {\n",
              "        vertical-align: top;\n",
              "    }\n",
              "\n",
              "    .dataframe thead th {\n",
              "        text-align: right;\n",
              "    }\n",
              "</style>\n",
              "<table border=\"1\" class=\"dataframe\">\n",
              "  <thead>\n",
              "    <tr style=\"text-align: right;\">\n",
              "      <th></th>\n",
              "      <th>mean_fit_time</th>\n",
              "      <th>std_fit_time</th>\n",
              "      <th>mean_score_time</th>\n",
              "      <th>std_score_time</th>\n",
              "      <th>param_metric</th>\n",
              "      <th>param_n_neighbors</th>\n",
              "      <th>param_weights</th>\n",
              "      <th>params</th>\n",
              "      <th>split0_test_score</th>\n",
              "      <th>split1_test_score</th>\n",
              "      <th>split2_test_score</th>\n",
              "      <th>split3_test_score</th>\n",
              "      <th>split4_test_score</th>\n",
              "      <th>mean_test_score</th>\n",
              "      <th>std_test_score</th>\n",
              "      <th>rank_test_score</th>\n",
              "    </tr>\n",
              "  </thead>\n",
              "  <tbody>\n",
              "    <tr>\n",
              "      <th>138</th>\n",
              "      <td>0.055947</td>\n",
              "      <td>0.000813</td>\n",
              "      <td>0.559716</td>\n",
              "      <td>0.003515</td>\n",
              "      <td>manhattan</td>\n",
              "      <td>21</td>\n",
              "      <td>uniform</td>\n",
              "      <td>{'metric': 'manhattan', 'n_neighbors': 21, 'we...</td>\n",
              "      <td>0.833737</td>\n",
              "      <td>0.838575</td>\n",
              "      <td>0.83414</td>\n",
              "      <td>0.843819</td>\n",
              "      <td>0.83524</td>\n",
              "      <td>0.837102</td>\n",
              "      <td>0.003764</td>\n",
              "      <td>1</td>\n",
              "    </tr>\n",
              "  </tbody>\n",
              "</table>\n",
              "</div>"
            ],
            "text/plain": [
              "     mean_fit_time  std_fit_time  ...  std_test_score  rank_test_score\n",
              "138       0.055947      0.000813  ...        0.003764                1\n",
              "\n",
              "[1 rows x 16 columns]"
            ]
          },
          "metadata": {
            "tags": []
          },
          "execution_count": 64
        }
      ]
    },
    {
      "cell_type": "code",
      "metadata": {
        "colab": {
          "base_uri": "https://localhost:8080/",
          "height": 151
        },
        "id": "mJXdadrV1d2q",
        "outputId": "bfc45fc2-097d-40cf-ecb6-ae8c1ae2f94e"
      },
      "source": [
        "#Grid Search for Decision Trees\n",
        "from sklearn.tree import DecisionTreeClassifier\n",
        "\n",
        "p = {'max_depth':np.arange(1,31), 'criterion': ['entropy', 'gini'], 'splitter': ['best', 'random']}\n",
        "\n",
        "\n",
        "des=DecisionTreeClassifier()\n",
        "\n",
        "x_des=GridSearchCV(des, p, cv=5, scoring='accuracy')\n",
        "\n",
        "x_des.fit(df_train_final.iloc[:, :-1], df_train_final.iloc[:, -1])\n",
        "\n",
        "results_des = pd.DataFrame(x_des.cv_results_)\n",
        "results_des[results_des['rank_test_score']==1]"
      ],
      "execution_count": null,
      "outputs": [
        {
          "output_type": "execute_result",
          "data": {
            "text/html": [
              "<div>\n",
              "<style scoped>\n",
              "    .dataframe tbody tr th:only-of-type {\n",
              "        vertical-align: middle;\n",
              "    }\n",
              "\n",
              "    .dataframe tbody tr th {\n",
              "        vertical-align: top;\n",
              "    }\n",
              "\n",
              "    .dataframe thead th {\n",
              "        text-align: right;\n",
              "    }\n",
              "</style>\n",
              "<table border=\"1\" class=\"dataframe\">\n",
              "  <thead>\n",
              "    <tr style=\"text-align: right;\">\n",
              "      <th></th>\n",
              "      <th>mean_fit_time</th>\n",
              "      <th>std_fit_time</th>\n",
              "      <th>mean_score_time</th>\n",
              "      <th>std_score_time</th>\n",
              "      <th>param_criterion</th>\n",
              "      <th>param_max_depth</th>\n",
              "      <th>param_splitter</th>\n",
              "      <th>params</th>\n",
              "      <th>split0_test_score</th>\n",
              "      <th>split1_test_score</th>\n",
              "      <th>split2_test_score</th>\n",
              "      <th>split3_test_score</th>\n",
              "      <th>split4_test_score</th>\n",
              "      <th>mean_test_score</th>\n",
              "      <th>std_test_score</th>\n",
              "      <th>rank_test_score</th>\n",
              "    </tr>\n",
              "  </thead>\n",
              "  <tbody>\n",
              "    <tr>\n",
              "      <th>68</th>\n",
              "      <td>0.016988</td>\n",
              "      <td>0.000239</td>\n",
              "      <td>0.001882</td>\n",
              "      <td>0.000045</td>\n",
              "      <td>gini</td>\n",
              "      <td>5</td>\n",
              "      <td>best</td>\n",
              "      <td>{'criterion': 'gini', 'max_depth': 5, 'splitte...</td>\n",
              "      <td>0.839675</td>\n",
              "      <td>0.844733</td>\n",
              "      <td>0.838319</td>\n",
              "      <td>0.846458</td>\n",
              "      <td>0.842719</td>\n",
              "      <td>0.842381</td>\n",
              "      <td>0.003036</td>\n",
              "      <td>1</td>\n",
              "    </tr>\n",
              "  </tbody>\n",
              "</table>\n",
              "</div>"
            ],
            "text/plain": [
              "    mean_fit_time  std_fit_time  ...  std_test_score  rank_test_score\n",
              "68       0.016988      0.000239  ...        0.003036                1\n",
              "\n",
              "[1 rows x 16 columns]"
            ]
          },
          "metadata": {
            "tags": []
          },
          "execution_count": 52
        }
      ]
    },
    {
      "cell_type": "markdown",
      "metadata": {
        "id": "NKWI4j1h3UId"
      },
      "source": [
        "### Different Classication Models Performance (Without Scaling)"
      ]
    },
    {
      "cell_type": "code",
      "metadata": {
        "colab": {
          "base_uri": "https://localhost:8080/",
          "height": 309
        },
        "id": "IXp6TpVE3WfY",
        "outputId": "64176ded-5aea-44a9-d263-c96739677b4b"
      },
      "source": [
        "from sklearn.pipeline import Pipeline\n",
        "from sklearn.metrics import accuracy_score\n",
        "from sklearn.linear_model import LogisticRegression\n",
        "\n",
        "scores=pd.DataFrame(columns=['Model','Training Accuracy Score', 'Test Accuracy Score'])\n",
        "\n",
        "pipe_log=Pipeline(steps=[('Logistic', LogisticRegression())])\n",
        "pipe_knn=Pipeline(steps=[('KNN', KNeighborsClassifier(21, 'uniform', metric='manhattan'))])\n",
        "pipe_nb=Pipeline(steps=[('NB', MultinomialNB())])\n",
        "pipe_dt=Pipeline(steps=[('Decision Tree', DecisionTreeClassifier('gini', 'best', 5))])\n",
        "\n",
        "pipe=[pipe_log, pipe_knn, pipe_nb, pipe_dt]\n",
        "mo=['Logistic Regression', 'KNN Classifier', 'Naive Bayes', 'Decision Tree Classifier']\n",
        "j=0\n",
        "\n",
        "for i in pipe:\n",
        "  x_pip=i.fit(X_train, y_train)\n",
        "  tra=accuracy_score(x_pip.predict(X_train), y_train)\n",
        "  tea=accuracy_score(x_pip.predict(X_test), y_test)\n",
        "  scores.loc[j]=[mo[j],tra, tea]\n",
        "  j+=1\n",
        "\n",
        "scores"
      ],
      "execution_count": null,
      "outputs": [
        {
          "output_type": "stream",
          "text": [
            "/usr/local/lib/python3.7/dist-packages/sklearn/linear_model/_logistic.py:940: ConvergenceWarning: lbfgs failed to converge (status=1):\n",
            "STOP: TOTAL NO. of ITERATIONS REACHED LIMIT.\n",
            "\n",
            "Increase the number of iterations (max_iter) or scale the data as shown in:\n",
            "    https://scikit-learn.org/stable/modules/preprocessing.html\n",
            "Please also refer to the documentation for alternative solver options:\n",
            "    https://scikit-learn.org/stable/modules/linear_model.html#logistic-regression\n",
            "  extra_warning_msg=_LOGISTIC_SOLVER_CONVERGENCE_MSG)\n"
          ],
          "name": "stderr"
        },
        {
          "output_type": "execute_result",
          "data": {
            "text/html": [
              "<div>\n",
              "<style scoped>\n",
              "    .dataframe tbody tr th:only-of-type {\n",
              "        vertical-align: middle;\n",
              "    }\n",
              "\n",
              "    .dataframe tbody tr th {\n",
              "        vertical-align: top;\n",
              "    }\n",
              "\n",
              "    .dataframe thead th {\n",
              "        text-align: right;\n",
              "    }\n",
              "</style>\n",
              "<table border=\"1\" class=\"dataframe\">\n",
              "  <thead>\n",
              "    <tr style=\"text-align: right;\">\n",
              "      <th></th>\n",
              "      <th>Model</th>\n",
              "      <th>Training Accuracy Score</th>\n",
              "      <th>Test Accuracy Score</th>\n",
              "    </tr>\n",
              "  </thead>\n",
              "  <tbody>\n",
              "    <tr>\n",
              "      <th>0</th>\n",
              "      <td>Logistic Regression</td>\n",
              "      <td>0.827160</td>\n",
              "      <td>0.827351</td>\n",
              "    </tr>\n",
              "    <tr>\n",
              "      <th>1</th>\n",
              "      <td>KNN Classifier</td>\n",
              "      <td>0.848408</td>\n",
              "      <td>0.833877</td>\n",
              "    </tr>\n",
              "    <tr>\n",
              "      <th>2</th>\n",
              "      <td>Naive Bayes</td>\n",
              "      <td>0.779430</td>\n",
              "      <td>0.785030</td>\n",
              "    </tr>\n",
              "    <tr>\n",
              "      <th>3</th>\n",
              "      <td>Decision Tree Classifier</td>\n",
              "      <td>0.843788</td>\n",
              "      <td>0.843871</td>\n",
              "    </tr>\n",
              "  </tbody>\n",
              "</table>\n",
              "</div>"
            ],
            "text/plain": [
              "                      Model  Training Accuracy Score  Test Accuracy Score\n",
              "0       Logistic Regression                 0.827160             0.827351\n",
              "1            KNN Classifier                 0.848408             0.833877\n",
              "2               Naive Bayes                 0.779430             0.785030\n",
              "3  Decision Tree Classifier                 0.843788             0.843871"
            ]
          },
          "metadata": {
            "tags": []
          },
          "execution_count": 50
        }
      ]
    },
    {
      "cell_type": "markdown",
      "metadata": {
        "id": "32X_R67h6WdF"
      },
      "source": [
        "### Different Classication Models Performance (After Scaling)"
      ]
    },
    {
      "cell_type": "code",
      "metadata": {
        "colab": {
          "base_uri": "https://localhost:8080/",
          "height": 207
        },
        "id": "6Fqp_1ht6eZd",
        "outputId": "9de153d3-2cd1-416c-9612-8cae8c7fb3d2"
      },
      "source": [
        "from sklearn.preprocessing import StandardScaler, MinMaxScaler\n",
        "\n",
        "scores=pd.DataFrame(columns=['Model','Training Accuracy Score', 'Test Accuracy Score'])\n",
        "\n",
        "pipe_log_scaled= Pipeline(steps=[('Scaler', StandardScaler()), ('Logistic', LogisticRegression(C=1, l1_ratio=0.001, solver='lbfgs', penalty='l2'))])\n",
        "pipe_knn_scaled=Pipeline(steps=[('Scaler', StandardScaler()), ('KNN', KNeighborsClassifier(21, 'uniform', metric='manhattan'))])\n",
        "pipe_nb_scaled=Pipeline(steps=[('Scaler', MinMaxScaler()),('NB', MultinomialNB())])\n",
        "pipe_dt_scaled=Pipeline(steps=[('Scaler', StandardScaler()), ('Decision Tree', DecisionTreeClassifier('gini', 'best', 5))])\n",
        "\n",
        "pipe=[pipe_log_scaled, pipe_knn_scaled, pipe_nb_scaled, pipe_dt_scaled]\n",
        "mo=['Logistic Regression', 'KNN Classifier', 'Naive Bayes', 'Decision Tree Classifier']\n",
        "j=0\n",
        "\n",
        "\n",
        "for i in pipe:\n",
        "  x=i.fit(X_train, y_train)\n",
        "  tra=accuracy_score(x.predict(X_train), y_train)\n",
        "  tea=accuracy_score(x.predict(X_test), y_test)\n",
        "\n",
        "  scores.loc[j]=[mo[j],tra, tea]\n",
        "  j+=1\n",
        "\n",
        "\n",
        "scores"
      ],
      "execution_count": null,
      "outputs": [
        {
          "output_type": "stream",
          "text": [
            "/usr/local/lib/python3.7/dist-packages/sklearn/linear_model/_logistic.py:1501: UserWarning: l1_ratio parameter is only used when penalty is 'elasticnet'. Got (penalty=l2)\n",
            "  \"(penalty={})\".format(self.penalty))\n"
          ],
          "name": "stderr"
        },
        {
          "output_type": "execute_result",
          "data": {
            "text/html": [
              "<div>\n",
              "<style scoped>\n",
              "    .dataframe tbody tr th:only-of-type {\n",
              "        vertical-align: middle;\n",
              "    }\n",
              "\n",
              "    .dataframe tbody tr th {\n",
              "        vertical-align: top;\n",
              "    }\n",
              "\n",
              "    .dataframe thead th {\n",
              "        text-align: right;\n",
              "    }\n",
              "</style>\n",
              "<table border=\"1\" class=\"dataframe\">\n",
              "  <thead>\n",
              "    <tr style=\"text-align: right;\">\n",
              "      <th></th>\n",
              "      <th>Model</th>\n",
              "      <th>Training Accuracy Score</th>\n",
              "      <th>Test Accuracy Score</th>\n",
              "    </tr>\n",
              "  </thead>\n",
              "  <tbody>\n",
              "    <tr>\n",
              "      <th>0</th>\n",
              "      <td>Logistic Regression</td>\n",
              "      <td>0.827248</td>\n",
              "      <td>0.827453</td>\n",
              "    </tr>\n",
              "    <tr>\n",
              "      <th>1</th>\n",
              "      <td>KNN Classifier</td>\n",
              "      <td>0.853774</td>\n",
              "      <td>0.847338</td>\n",
              "    </tr>\n",
              "    <tr>\n",
              "      <th>2</th>\n",
              "      <td>Naive Bayes</td>\n",
              "      <td>0.761174</td>\n",
              "      <td>0.754028</td>\n",
              "    </tr>\n",
              "    <tr>\n",
              "      <th>3</th>\n",
              "      <td>Decision Tree Classifier</td>\n",
              "      <td>0.843788</td>\n",
              "      <td>0.843871</td>\n",
              "    </tr>\n",
              "  </tbody>\n",
              "</table>\n",
              "</div>"
            ],
            "text/plain": [
              "                      Model  Training Accuracy Score  Test Accuracy Score\n",
              "0       Logistic Regression                 0.827248             0.827453\n",
              "1            KNN Classifier                 0.853774             0.847338\n",
              "2               Naive Bayes                 0.761174             0.754028\n",
              "3  Decision Tree Classifier                 0.843788             0.843871"
            ]
          },
          "metadata": {
            "tags": []
          },
          "execution_count": 51
        }
      ]
    },
    {
      "cell_type": "markdown",
      "metadata": {
        "id": "F-ry4kIV__EP"
      },
      "source": [
        "## Neural Network"
      ]
    },
    {
      "cell_type": "code",
      "metadata": {
        "colab": {
          "base_uri": "https://localhost:8080/"
        },
        "id": "GWMFVWLG_306",
        "outputId": "eb8a4171-43e5-4d95-d661-457c94318ff5"
      },
      "source": [
        "model_NN = MLPClassifier(max_iter=800, learning_rate_init= 0.003, activation='relu')\n",
        "model_NN.fit(X_train, y_train)\n",
        "pred = model_NN.predict(X_test)\n",
        "accuracy_score(y_test, pred)"
      ],
      "execution_count": null,
      "outputs": [
        {
          "output_type": "execute_result",
          "data": {
            "text/plain": [
              "0.8482561696920253"
            ]
          },
          "metadata": {
            "tags": []
          },
          "execution_count": 109
        }
      ]
    },
    {
      "cell_type": "code",
      "metadata": {
        "colab": {
          "base_uri": "https://localhost:8080/",
          "height": 502
        },
        "id": "Khvy1yoJALJM",
        "outputId": "b7dd5914-236c-4b38-99c1-f17a1700d9f7"
      },
      "source": [
        "sns.lineplot(y=model_NN.loss_curve_, x= np.arange(1, len(model_NN.loss_curve_)+1))"
      ],
      "execution_count": null,
      "outputs": [
        {
          "output_type": "execute_result",
          "data": {
            "text/plain": [
              "<matplotlib.axes._subplots.AxesSubplot at 0x7fc61cd1ae10>"
            ]
          },
          "metadata": {
            "tags": []
          },
          "execution_count": 55
        },
        {
          "output_type": "display_data",
          "data": {
            "image/png": "[encoded data removed]",
            "text/plain": [
              "<Figure size 864x576 with 1 Axes>"
            ]
          },
          "metadata": {
            "tags": []
          }
        }
      ]
    },
    {
      "cell_type": "markdown",
      "metadata": {
        "id": "2Vl6huTXAgj6"
      },
      "source": [
        "## NN classifier with cross validation and standardization"
      ]
    },
    {
      "cell_type": "code",
      "metadata": {
        "colab": {
          "base_uri": "https://localhost:8080/"
        },
        "id": "UC-ebATPAPaM",
        "outputId": "b67e3045-d0a2-4b31-df92-3338c1dbd6a5"
      },
      "source": [
        "from sklearn.model_selection import cross_val_score\n",
        "scaler = StandardScaler()\n",
        "X_scaled_train = pd.DataFrame(scaler.fit_transform(X_train), columns = X_train.columns)\n",
        "X_scaled_test = pd.DataFrame(scaler.transform(X_test), columns = X_train.columns)\n",
        "model = MLPClassifier(learning_rate_init= 0.03, activation='relu', max_iter=1000)\n",
        "scores = cross_val_score(model, X_scaled_train, y_train, cv=5)\n",
        "print('Cross Validation Acccuracy:', scores)\n",
        "print('Avg. Cross Validation Acccuracy:', scores.mean())"
      ],
      "execution_count": null,
      "outputs": [
        {
          "output_type": "stream",
          "text": [
            "Cross Validation Acccuracy: [0.84121399 0.84693204 0.83985922 0.8457985  0.84271887]\n",
            "Avg. Cross Validation Acccuracy: 0.8433045250316609\n"
          ],
          "name": "stdout"
        }
      ]
    },
    {
      "cell_type": "markdown",
      "metadata": {
        "id": "FxG5m0D8AxHW"
      },
      "source": [
        "## NN classifier with gridsearchCV and standardization"
      ]
    },
    {
      "cell_type": "code",
      "metadata": {
        "colab": {
          "base_uri": "https://localhost:8080/"
        },
        "id": "q5vtG7ZdAjCe",
        "outputId": "5f56a9d2-c093-40d3-cf50-01786182cfc3"
      },
      "source": [
        "from sklearn.model_selection import GridSearchCV\n",
        "model = MLPClassifier()\n",
        "#parameters = {'activation':('identity', 'logistic', 'tanh', 'relu'), 'learning_rate_init':[0.00001, 0.0001, 0.001, 0.003, 0.01, 0.03, 1, 3, 10]}\n",
        "parameters = {'activation':('tanh', 'relu','logistic'), 'learning_rate_init':[0.001,0.01, 0.03, 1, 3]}\n",
        "optimized_model = GridSearchCV(model, parameters, cv=5)\n",
        "optimized_model.fit(X_train, y_train)"
      ],
      "execution_count": null,
      "outputs": [
        {
          "output_type": "stream",
          "text": [
            "/usr/local/lib/python3.7/dist-packages/sklearn/neural_network/_multilayer_perceptron.py:571: ConvergenceWarning: Stochastic Optimizer: Maximum iterations (200) reached and the optimization hasn't converged yet.\n",
            "  % self.max_iter, ConvergenceWarning)\n",
            "/usr/local/lib/python3.7/dist-packages/sklearn/neural_network/_multilayer_perceptron.py:571: ConvergenceWarning: Stochastic Optimizer: Maximum iterations (200) reached and the optimization hasn't converged yet.\n",
            "  % self.max_iter, ConvergenceWarning)\n",
            "/usr/local/lib/python3.7/dist-packages/sklearn/neural_network/_multilayer_perceptron.py:571: ConvergenceWarning: Stochastic Optimizer: Maximum iterations (200) reached and the optimization hasn't converged yet.\n",
            "  % self.max_iter, ConvergenceWarning)\n",
            "/usr/local/lib/python3.7/dist-packages/sklearn/neural_network/_multilayer_perceptron.py:573: UserWarning: Training interrupted by user.\n",
            "  warnings.warn(\"Training interrupted by user.\")\n",
            "/usr/local/lib/python3.7/dist-packages/sklearn/neural_network/_multilayer_perceptron.py:573: UserWarning: Training interrupted by user.\n",
            "  warnings.warn(\"Training interrupted by user.\")\n",
            "/usr/local/lib/python3.7/dist-packages/sklearn/neural_network/_multilayer_perceptron.py:573: UserWarning: Training interrupted by user.\n",
            "  warnings.warn(\"Training interrupted by user.\")\n",
            "/usr/local/lib/python3.7/dist-packages/sklearn/neural_network/_multilayer_perceptron.py:573: UserWarning: Training interrupted by user.\n",
            "  warnings.warn(\"Training interrupted by user.\")\n",
            "/usr/local/lib/python3.7/dist-packages/sklearn/neural_network/_multilayer_perceptron.py:573: UserWarning: Training interrupted by user.\n",
            "  warnings.warn(\"Training interrupted by user.\")\n",
            "/usr/local/lib/python3.7/dist-packages/sklearn/neural_network/_multilayer_perceptron.py:573: UserWarning: Training interrupted by user.\n",
            "  warnings.warn(\"Training interrupted by user.\")\n",
            "/usr/local/lib/python3.7/dist-packages/sklearn/neural_network/_multilayer_perceptron.py:573: UserWarning: Training interrupted by user.\n",
            "  warnings.warn(\"Training interrupted by user.\")\n"
          ],
          "name": "stderr"
        }
      ]
    },
    {
      "cell_type": "code",
      "metadata": {
        "colab": {
          "base_uri": "https://localhost:8080/"
        },
        "id": "MKn7zbH0A3TS",
        "outputId": "d734549e-70a9-4684-a562-9779061c0b72"
      },
      "source": [
        "optimized_model.best_score_"
      ],
      "execution_count": null,
      "outputs": [
        {
          "output_type": "execute_result",
          "data": {
            "text/plain": [
              "0.8453720253371662"
            ]
          },
          "metadata": {
            "tags": []
          },
          "execution_count": 66
        }
      ]
    },
    {
      "cell_type": "markdown",
      "metadata": {
        "id": "4-tVHMctA57S"
      },
      "source": [
        "## NN classifier with standardization"
      ]
    },
    {
      "cell_type": "code",
      "metadata": {
        "id": "t2ghtbzJA8TQ",
        "colab": {
          "base_uri": "https://localhost:8080/"
        },
        "outputId": "96a8537c-f3b5-4887-b3eb-d04750bf2442"
      },
      "source": [
        "result = pd.DataFrame(columns=['Learning Rate', 'Transfer Function',  'Accuracy'])\n",
        "lr = [0.00001, 0.0001, 0.001, 0.003, 0.01, 0.03, 1, 3, 10]\n",
        "transfer_function = ['identity', 'logistic', 'tanh', 'relu']\n",
        "k=0\n",
        "for i in lr:\n",
        "  for j in transfer_function:\n",
        "    model = MLPClassifier(learning_rate_init= i, activation=j)\n",
        "    model.fit(X_train, y_train)\n",
        "    pred = model.predict(X_test)\n",
        "    result.loc[k] = [i, j,  accuracy_score(y_test, pred)]\n",
        "    k+=1\n",
        "print(tabulate(result, headers=result.columns, tablefmt='grid'))"
      ],
      "execution_count": null,
      "outputs": [
        {
          "output_type": "stream",
          "text": [
            "/usr/local/lib/python3.7/dist-packages/sklearn/neural_network/_multilayer_perceptron.py:571: ConvergenceWarning: Stochastic Optimizer: Maximum iterations (200) reached and the optimization hasn't converged yet.\n",
            "  % self.max_iter, ConvergenceWarning)\n",
            "/usr/local/lib/python3.7/dist-packages/sklearn/neural_network/_multilayer_perceptron.py:571: ConvergenceWarning: Stochastic Optimizer: Maximum iterations (200) reached and the optimization hasn't converged yet.\n",
            "  % self.max_iter, ConvergenceWarning)\n",
            "/usr/local/lib/python3.7/dist-packages/sklearn/neural_network/_multilayer_perceptron.py:571: ConvergenceWarning: Stochastic Optimizer: Maximum iterations (200) reached and the optimization hasn't converged yet.\n",
            "  % self.max_iter, ConvergenceWarning)\n",
            "/usr/local/lib/python3.7/dist-packages/sklearn/neural_network/_multilayer_perceptron.py:571: ConvergenceWarning: Stochastic Optimizer: Maximum iterations (200) reached and the optimization hasn't converged yet.\n",
            "  % self.max_iter, ConvergenceWarning)\n",
            "/usr/local/lib/python3.7/dist-packages/sklearn/neural_network/_multilayer_perceptron.py:571: ConvergenceWarning: Stochastic Optimizer: Maximum iterations (200) reached and the optimization hasn't converged yet.\n",
            "  % self.max_iter, ConvergenceWarning)\n",
            "/usr/local/lib/python3.7/dist-packages/sklearn/neural_network/_multilayer_perceptron.py:571: ConvergenceWarning: Stochastic Optimizer: Maximum iterations (200) reached and the optimization hasn't converged yet.\n",
            "  % self.max_iter, ConvergenceWarning)\n",
            "/usr/local/lib/python3.7/dist-packages/sklearn/neural_network/_multilayer_perceptron.py:571: ConvergenceWarning: Stochastic Optimizer: Maximum iterations (200) reached and the optimization hasn't converged yet.\n",
            "  % self.max_iter, ConvergenceWarning)\n",
            "/usr/local/lib/python3.7/dist-packages/sklearn/neural_network/_multilayer_perceptron.py:571: ConvergenceWarning: Stochastic Optimizer: Maximum iterations (200) reached and the optimization hasn't converged yet.\n",
            "  % self.max_iter, ConvergenceWarning)\n",
            "/usr/local/lib/python3.7/dist-packages/sklearn/neural_network/_multilayer_perceptron.py:571: ConvergenceWarning: Stochastic Optimizer: Maximum iterations (200) reached and the optimization hasn't converged yet.\n",
            "  % self.max_iter, ConvergenceWarning)\n",
            "/usr/local/lib/python3.7/dist-packages/sklearn/neural_network/_multilayer_perceptron.py:571: ConvergenceWarning: Stochastic Optimizer: Maximum iterations (200) reached and the optimization hasn't converged yet.\n",
            "  % self.max_iter, ConvergenceWarning)\n",
            "/usr/local/lib/python3.7/dist-packages/sklearn/neural_network/_multilayer_perceptron.py:571: ConvergenceWarning: Stochastic Optimizer: Maximum iterations (200) reached and the optimization hasn't converged yet.\n",
            "  % self.max_iter, ConvergenceWarning)\n"
          ],
          "name": "stderr"
        },
        {
          "output_type": "stream",
          "text": [
            "+----+-----------------+---------------------+------------+\n",
            "|    |   Learning Rate | Transfer Function   |   Accuracy |\n",
            "+====+=================+=====================+============+\n",
            "|  0 |          1e-05  | identity            |   0.82164  |\n",
            "+----+-----------------+---------------------+------------+\n",
            "|  1 |          1e-05  | logistic            |   0.806343 |\n",
            "+----+-----------------+---------------------+------------+\n",
            "|  2 |          1e-05  | tanh                |   0.826943 |\n",
            "+----+-----------------+---------------------+------------+\n",
            "|  3 |          1e-05  | relu                |   0.823781 |\n",
            "+----+-----------------+---------------------+------------+\n",
            "|  4 |          0.0001 | identity            |   0.828574 |\n",
            "+----+-----------------+---------------------+------------+\n",
            "|  5 |          0.0001 | logistic            |   0.838976 |\n",
            "+----+-----------------+---------------------+------------+\n",
            "|  6 |          0.0001 | tanh                |   0.842035 |\n",
            "+----+-----------------+---------------------+------------+\n",
            "|  7 |          0.0001 | relu                |   0.84122  |\n",
            "+----+-----------------+---------------------+------------+\n",
            "|  8 |          0.001  | identity            |   0.822864 |\n",
            "+----+-----------------+---------------------+------------+\n",
            "|  9 |          0.001  | logistic            |   0.847134 |\n",
            "+----+-----------------+---------------------+------------+\n",
            "| 10 |          0.001  | tanh                |   0.84795  |\n",
            "+----+-----------------+---------------------+------------+\n",
            "| 11 |          0.001  | relu                |   0.848664 |\n",
            "+----+-----------------+---------------------+------------+\n",
            "| 12 |          0.003  | identity            |   0.824189 |\n",
            "+----+-----------------+---------------------+------------+\n",
            "| 13 |          0.003  | logistic            |   0.84897  |\n",
            "+----+-----------------+---------------------+------------+\n",
            "| 14 |          0.003  | tanh                |   0.849786 |\n",
            "+----+-----------------+---------------------+------------+\n",
            "| 15 |          0.003  | relu                |   0.849174 |\n",
            "+----+-----------------+---------------------+------------+\n",
            "| 16 |          0.01   | identity            |   0.824903 |\n",
            "+----+-----------------+---------------------+------------+\n",
            "| 17 |          0.01   | logistic            |   0.847338 |\n",
            "+----+-----------------+---------------------+------------+\n",
            "| 18 |          0.01   | tanh                |   0.84693  |\n",
            "+----+-----------------+---------------------+------------+\n",
            "| 19 |          0.01   | relu                |   0.846217 |\n",
            "+----+-----------------+---------------------+------------+\n",
            "| 20 |          0.03   | identity            |   0.822456 |\n",
            "+----+-----------------+---------------------+------------+\n",
            "| 21 |          0.03   | logistic            |   0.842035 |\n",
            "+----+-----------------+---------------------+------------+\n",
            "| 22 |          0.03   | tanh                |   0.840812 |\n",
            "+----+-----------------+---------------------+------------+\n",
            "| 23 |          0.03   | relu                |   0.845197 |\n",
            "+----+-----------------+---------------------+------------+\n",
            "| 24 |          1      | identity            |   0.814807 |\n",
            "+----+-----------------+---------------------+------------+\n",
            "| 25 |          1      | logistic            |   0.754028 |\n",
            "+----+-----------------+---------------------+------------+\n",
            "| 26 |          1      | tanh                |   0.581787 |\n",
            "+----+-----------------+---------------------+------------+\n",
            "| 27 |          1      | relu                |   0.753926 |\n",
            "+----+-----------------+---------------------+------------+\n",
            "| 28 |          3      | identity            |   0.808893 |\n",
            "+----+-----------------+---------------------+------------+\n",
            "| 29 |          3      | logistic            |   0.754028 |\n",
            "+----+-----------------+---------------------+------------+\n",
            "| 30 |          3      | tanh                |   0.754028 |\n",
            "+----+-----------------+---------------------+------------+\n",
            "| 31 |          3      | relu                |   0.754028 |\n",
            "+----+-----------------+---------------------+------------+\n",
            "| 32 |         10      | identity            |   0.808077 |\n",
            "+----+-----------------+---------------------+------------+\n",
            "| 33 |         10      | logistic            |   0.754028 |\n",
            "+----+-----------------+---------------------+------------+\n",
            "| 34 |         10      | tanh                |   0.754028 |\n",
            "+----+-----------------+---------------------+------------+\n",
            "| 35 |         10      | relu                |   0.754028 |\n",
            "+----+-----------------+---------------------+------------+\n"
          ],
          "name": "stdout"
        }
      ]
    },
    {
      "cell_type": "code",
      "metadata": {
        "id": "uTj7BJRSBCJj",
        "colab": {
          "base_uri": "https://localhost:8080/",
          "height": 519
        },
        "outputId": "cd72c17f-9551-4e71-8514-3fe89e262165"
      },
      "source": [
        "sns.barplot(x='Learning Rate', y='Accuracy', hue='Transfer Function', data=result)"
      ],
      "execution_count": null,
      "outputs": [
        {
          "output_type": "execute_result",
          "data": {
            "text/plain": [
              "<matplotlib.axes._subplots.AxesSubplot at 0x7fc60d59a750>"
            ]
          },
          "metadata": {
            "tags": []
          },
          "execution_count": 102
        },
        {
          "output_type": "display_data",
          "data": {
            "image/png": "[encoded data removed]",
            "text/plain": [
              "<Figure size 864x576 with 1 Axes>"
            ]
          },
          "metadata": {
            "tags": []
          }
        }
      ]
    },
    {
      "cell_type": "markdown",
      "metadata": {
        "id": "HFUjm-62BGkX"
      },
      "source": [
        "# xG Boost"
      ]
    },
    {
      "cell_type": "code",
      "metadata": {
        "id": "kyJUZdlIBEVg"
      },
      "source": [
        "rfc = RandomForestClassifier(max_depth=10, n_estimators=100, criterion='gini')\n",
        "# Hyperparameter tuning of XGBoost\n",
        "param_grid = {'max_depth':[2, 4, 5, 7, 9, 10], 'learning_rate':[0.001, 0.01, 0.1, 0.2, 0.3, 0.35], 'min_child_weight':[2, 4, 5, 6, 7]}\n",
        "grid = GridSearchCV(XGBClassifier(), param_grid=param_grid, verbose=3)\n",
        "grid.fit(X_train, y_train)"
      ],
      "execution_count": null,
      "outputs": []
    },
    {
      "cell_type": "code",
      "metadata": {
        "id": "245xQ-vXIVZH"
      },
      "source": [
        "grid.best_params_"
      ],
      "execution_count": null,
      "outputs": []
    },
    {
      "cell_type": "markdown",
      "metadata": {
        "id": "ODVulsJNhd_5"
      },
      "source": [
        "Best paramter after running the pipleline, we get max_depth = 5, learning_rate = 0.2 and min_child_weight = 7"
      ]
    },
    {
      "cell_type": "code",
      "metadata": {
        "colab": {
          "base_uri": "https://localhost:8080/"
        },
        "id": "AONl2mE2IR-3",
        "outputId": "43a3a04a-d48d-484a-f5c1-f985eeb692ce"
      },
      "source": [
        "param_grid = {'max_depth':[5], 'learning_rate':[0.3], 'min_child_weight':[7]}\n",
        "grid = GridSearchCV(XGBClassifier(), param_grid=param_grid, verbose=3)\n",
        "grid.fit(X_train, y_train)"
      ],
      "execution_count": null,
      "outputs": [
        {
          "output_type": "stream",
          "text": [
            "Fitting 5 folds for each of 1 candidates, totalling 5 fits\n",
            "[CV] learning_rate=0.3, max_depth=5, min_child_weight=7 ..............\n"
          ],
          "name": "stdout"
        },
        {
          "output_type": "stream",
          "text": [
            "[Parallel(n_jobs=1)]: Using backend SequentialBackend with 1 concurrent workers.\n"
          ],
          "name": "stderr"
        },
        {
          "output_type": "stream",
          "text": [
            "[CV]  learning_rate=0.3, max_depth=5, min_child_weight=7, score=0.847, total=   1.3s\n",
            "[CV] learning_rate=0.3, max_depth=5, min_child_weight=7 ..............\n"
          ],
          "name": "stdout"
        },
        {
          "output_type": "stream",
          "text": [
            "[Parallel(n_jobs=1)]: Done   1 out of   1 | elapsed:    1.3s remaining:    0.0s\n"
          ],
          "name": "stderr"
        },
        {
          "output_type": "stream",
          "text": [
            "[CV]  learning_rate=0.3, max_depth=5, min_child_weight=7, score=0.856, total=   1.3s\n",
            "[CV] learning_rate=0.3, max_depth=5, min_child_weight=7 ..............\n"
          ],
          "name": "stdout"
        },
        {
          "output_type": "stream",
          "text": [
            "[Parallel(n_jobs=1)]: Done   2 out of   2 | elapsed:    2.7s remaining:    0.0s\n"
          ],
          "name": "stderr"
        },
        {
          "output_type": "stream",
          "text": [
            "[CV]  learning_rate=0.3, max_depth=5, min_child_weight=7, score=0.845, total=   1.3s\n",
            "[CV] learning_rate=0.3, max_depth=5, min_child_weight=7 ..............\n",
            "[CV]  learning_rate=0.3, max_depth=5, min_child_weight=7, score=0.850, total=   1.3s\n",
            "[CV] learning_rate=0.3, max_depth=5, min_child_weight=7 ..............\n",
            "[CV]  learning_rate=0.3, max_depth=5, min_child_weight=7, score=0.851, total=   1.3s\n"
          ],
          "name": "stdout"
        },
        {
          "output_type": "stream",
          "text": [
            "[Parallel(n_jobs=1)]: Done   5 out of   5 | elapsed:    6.5s finished\n"
          ],
          "name": "stderr"
        },
        {
          "output_type": "execute_result",
          "data": {
            "text/plain": [
              "GridSearchCV(cv=None, error_score=nan,\n",
              "             estimator=XGBClassifier(base_score=0.5, booster='gbtree',\n",
              "                                     colsample_bylevel=1, colsample_bynode=1,\n",
              "                                     colsample_bytree=1, gamma=0,\n",
              "                                     learning_rate=0.1, max_delta_step=0,\n",
              "                                     max_depth=3, min_child_weight=1,\n",
              "                                     missing=None, n_estimators=100, n_jobs=1,\n",
              "                                     nthread=None, objective='binary:logistic',\n",
              "                                     random_state=0, reg_alpha=0, reg_lambda=1,\n",
              "                                     scale_pos_weight=1, seed=None, silent=None,\n",
              "                                     subsample=1, verbosity=1),\n",
              "             iid='deprecated', n_jobs=None,\n",
              "             param_grid={'learning_rate': [0.3], 'max_depth': [5],\n",
              "                         'min_child_weight': [7]},\n",
              "             pre_dispatch='2*n_jobs', refit=True, return_train_score=False,\n",
              "             scoring=None, verbose=3)"
            ]
          },
          "metadata": {
            "tags": []
          },
          "execution_count": 63
        }
      ]
    },
    {
      "cell_type": "code",
      "metadata": {
        "colab": {
          "base_uri": "https://localhost:8080/"
        },
        "id": "EWJsoeLcBMSo",
        "outputId": "81aed970-4cea-494d-e4a9-3fca695f5f01"
      },
      "source": [
        "grid.best_score_"
      ],
      "execution_count": null,
      "outputs": [
        {
          "output_type": "execute_result",
          "data": {
            "text/plain": [
              "0.8497271253334798"
            ]
          },
          "metadata": {
            "tags": []
          },
          "execution_count": 64
        }
      ]
    },
    {
      "cell_type": "code",
      "metadata": {
        "id": "SP8D_hESBQfu"
      },
      "source": [
        "xgb = XGBClassifier(learning_rate=0.3, max_depth=5, min_child_weight=7)"
      ],
      "execution_count": null,
      "outputs": []
    },
    {
      "cell_type": "markdown",
      "metadata": {
        "id": "j2LpBc20BS4G"
      },
      "source": [
        "## CatBoost"
      ]
    },
    {
      "cell_type": "code",
      "metadata": {
        "colab": {
          "base_uri": "https://localhost:8080/"
        },
        "id": "H7Oyib1SI0Gc",
        "outputId": "0e9a3221-a225-4f24-8dac-8599367d0f69"
      },
      "source": [
        "!pip install catboost"
      ],
      "execution_count": null,
      "outputs": [
        {
          "output_type": "stream",
          "text": [
            "Collecting catboost\n",
            "  Downloading catboost-0.26-cp37-none-manylinux1_x86_64.whl (69.2 MB)\n",
            "\u001b[K     |████████████████████████████████| 69.2 MB 4.8 kB/s \n",
            "\u001b[?25hRequirement already satisfied: pandas>=0.24.0 in /usr/local/lib/python3.7/dist-packages (from catboost) (1.1.5)\n",
            "Requirement already satisfied: plotly in /usr/local/lib/python3.7/dist-packages (from catboost) (4.4.1)\n",
            "Requirement already satisfied: matplotlib in /usr/local/lib/python3.7/dist-packages (from catboost) (3.2.2)\n",
            "Requirement already satisfied: scipy in /usr/local/lib/python3.7/dist-packages (from catboost) (1.4.1)\n",
            "Requirement already satisfied: six in /usr/local/lib/python3.7/dist-packages (from catboost) (1.15.0)\n",
            "Requirement already satisfied: numpy>=1.16.0 in /usr/local/lib/python3.7/dist-packages (from catboost) (1.19.5)\n",
            "Requirement already satisfied: graphviz in /usr/local/lib/python3.7/dist-packages (from catboost) (0.10.1)\n",
            "Requirement already satisfied: pytz>=2017.2 in /usr/local/lib/python3.7/dist-packages (from pandas>=0.24.0->catboost) (2018.9)\n",
            "Requirement already satisfied: python-dateutil>=2.7.3 in /usr/local/lib/python3.7/dist-packages (from pandas>=0.24.0->catboost) (2.8.1)\n",
            "Requirement already satisfied: cycler>=0.10 in /usr/local/lib/python3.7/dist-packages (from matplotlib->catboost) (0.10.0)\n",
            "Requirement already satisfied: pyparsing!=2.0.4,!=2.1.2,!=2.1.6,>=2.0.1 in /usr/local/lib/python3.7/dist-packages (from matplotlib->catboost) (2.4.7)\n",
            "Requirement already satisfied: kiwisolver>=1.0.1 in /usr/local/lib/python3.7/dist-packages (from matplotlib->catboost) (1.3.1)\n",
            "Requirement already satisfied: retrying>=1.3.3 in /usr/local/lib/python3.7/dist-packages (from plotly->catboost) (1.3.3)\n",
            "Installing collected packages: catboost\n",
            "Successfully installed catboost-0.26\n"
          ],
          "name": "stdout"
        }
      ]
    },
    {
      "cell_type": "code",
      "metadata": {
        "id": "o_l0dHlHI8OP"
      },
      "source": [
        "from catboost import CatBoostClassifier"
      ],
      "execution_count": null,
      "outputs": []
    },
    {
      "cell_type": "code",
      "metadata": {
        "id": "8hi_ZeuhBVd-"
      },
      "source": [
        "param_grid = {'depth':[2, 4, 5, 7, 9, 10], 'learning_rate':[0.001, 0.01, 0.1, 0.2, 0.3], 'iterations':[30, 50, 100]}\n",
        "grid = GridSearchCV(CatBoostClassifier(), param_grid, verbose=3)\n",
        "grid.fit(X_train, y_train)"
      ],
      "execution_count": null,
      "outputs": []
    },
    {
      "cell_type": "code",
      "metadata": {
        "id": "W4ApWa6qBXP3"
      },
      "source": [
        "grid.best_params_"
      ],
      "execution_count": null,
      "outputs": []
    },
    {
      "cell_type": "markdown",
      "metadata": {
        "id": "yNH6bIup2f9g"
      },
      "source": [
        "Best parameters for using catBoost by gridsearch are:\n",
        "depth = 10, learning_rate =  0.3, and iterations = 100"
      ]
    },
    {
      "cell_type": "code",
      "metadata": {
        "id": "gA349_F8IjJJ"
      },
      "source": [
        "param_grid = {'depth':[10], 'learning_rate':[0.3], 'iterations':[100]}\n",
        "grid = GridSearchCV(CatBoostClassifier(), param_grid, verbose=3)\n",
        "grid.fit(X_train, y_train)"
      ],
      "execution_count": null,
      "outputs": []
    },
    {
      "cell_type": "code",
      "metadata": {
        "colab": {
          "base_uri": "https://localhost:8080/"
        },
        "id": "ERkKMObIBYWF",
        "outputId": "1064236e-7c8a-48f7-c3af-e5279035fec4"
      },
      "source": [
        "grid.best_score_"
      ],
      "execution_count": null,
      "outputs": [
        {
          "output_type": "execute_result",
          "data": {
            "text/plain": [
              "0.8478796470088863"
            ]
          },
          "metadata": {
            "tags": []
          },
          "execution_count": 78
        }
      ]
    },
    {
      "cell_type": "code",
      "metadata": {
        "id": "X_UM7HtyBZl2"
      },
      "source": [
        "cb = CatBoostClassifier(iterations=100, depth=10, learning_rate=0.3, verbose=False)"
      ],
      "execution_count": null,
      "outputs": []
    },
    {
      "cell_type": "code",
      "metadata": {
        "id": "NXeU4Q8cBboe"
      },
      "source": [
        "classifiers = [xgb, cb]\n",
        "folds = StratifiedKFold(n_splits=3, shuffle=True, random_state=11)\n",
        "scores_dict = {}\n",
        "\n",
        "for train_index, valid_index in folds.split(X_train, y_train):\n",
        "    X_train_fold, X_valid_fold = X_train.iloc[train_index], X_train.iloc[valid_index]\n",
        "    y_train_fold, y_valid_fold = y_train.iloc[train_index], y_train.iloc[valid_index]\n",
        "    for classifier in classifiers:\n",
        "        name = classifier.__class__.__name__\n",
        "        classifier.fit(X_train_fold, y_train_fold)\n",
        "        training_predictions = classifier.predict_proba(X_valid_fold)\n",
        "        scores = roc_auc_score(y_valid_fold, training_predictions[:, 1])\n",
        "        if name in scores_dict:\n",
        "            scores_dict[name] += scores\n",
        "        else:\n",
        "            scores_dict[name] = scores\n",
        "for classifier in scores_dict:\n",
        "    scores_dict[classifier] = scores_dict[classifier]/folds.n_splits"
      ],
      "execution_count": null,
      "outputs": []
    },
    {
      "cell_type": "code",
      "metadata": {
        "colab": {
          "base_uri": "https://localhost:8080/"
        },
        "id": "N-R92vGMBs6a",
        "outputId": "6541511f-2491-468c-cc15-b8451e18ea71"
      },
      "source": [
        "scores_dict"
      ],
      "execution_count": null,
      "outputs": [
        {
          "output_type": "execute_result",
          "data": {
            "text/plain": [
              "{'CatBoostClassifier': 0.8991279046052335, 'XGBClassifier': 0.9027116257863773}"
            ]
          },
          "metadata": {
            "tags": []
          },
          "execution_count": 85
        }
      ]
    },
    {
      "cell_type": "code",
      "metadata": {
        "colab": {
          "base_uri": "https://localhost:8080/"
        },
        "id": "JRI14OvbBu2M",
        "outputId": "3fa3a81f-2193-463a-d524-83fd7e87bd34"
      },
      "source": [
        "final_predictions = xgb.predict_proba(X_test)\n",
        "print(roc_auc_score(y_test, final_predictions[:, 1]))"
      ],
      "execution_count": null,
      "outputs": [
        {
          "output_type": "stream",
          "text": [
            "0.9056098721521776\n"
          ],
          "name": "stdout"
        }
      ]
    },
    {
      "cell_type": "code",
      "metadata": {
        "id": "iLP02O44FMJB"
      },
      "source": [
        "classifiers = [LogisticRegression(), \n",
        "               KNeighborsClassifier(21, 'uniform', metric='manhattan'), \n",
        "               MultinomialNB(), \n",
        "               DecisionTreeClassifier('gini', 'best', 5),\n",
        "               MLPClassifier(max_iter=1000, learning_rate_init= 0.003, activation='relu'),\n",
        "               XGBClassifier(learning_rate=0.3, max_depth=5, min_child_weight=7),\n",
        "               CatBoostClassifier(iterations=100, depth=10, learning_rate=0.3, verbose=False)]\n",
        "classifier_names = [\"Logistic\", \n",
        "                    \"kNN Classifier\",\n",
        "                    \"Naive Bayes Classifier\", \n",
        "                    \"Decision Tree Classifier\", \n",
        "                    \"Neural Network\", \n",
        "                    \"xGBoost\",\n",
        "                    \"CatBoost\"]\n",
        "accuracies = []\n"
      ],
      "execution_count": null,
      "outputs": []
    },
    {
      "cell_type": "markdown",
      "metadata": {
        "id": "3_8Fai0H2zzP"
      },
      "source": [
        "### F1 Score"
      ]
    },
    {
      "cell_type": "code",
      "metadata": {
        "colab": {
          "base_uri": "https://localhost:8080/"
        },
        "id": "PwJvZGhFF_B_",
        "outputId": "e5f00947-903c-4305-8138-58fec27f4306"
      },
      "source": [
        "for i in range(len(classifiers)):\n",
        "    classifier = classifiers[i]\n",
        "    classifier.fit(X_train, y_train)\n",
        "    y_pred = classifier.predict(X_test)\n",
        "    print(\"{}:\".format(classifier_names[i]))\n",
        "    print(\"F1 score: {:.2f}\".format(f1_score(y_test, y_pred)))\n",
        "    accuracy = accuracy_score(y_test, y_pred)*100\n",
        "    accuracies.append(accuracy)"
      ],
      "execution_count": null,
      "outputs": [
        {
          "output_type": "stream",
          "text": [
            "/usr/local/lib/python3.7/dist-packages/sklearn/linear_model/_logistic.py:940: ConvergenceWarning: lbfgs failed to converge (status=1):\n",
            "STOP: TOTAL NO. of ITERATIONS REACHED LIMIT.\n",
            "\n",
            "Increase the number of iterations (max_iter) or scale the data as shown in:\n",
            "    https://scikit-learn.org/stable/modules/preprocessing.html\n",
            "Please also refer to the documentation for alternative solver options:\n",
            "    https://scikit-learn.org/stable/modules/linear_model.html#logistic-regression\n",
            "  extra_warning_msg=_LOGISTIC_SOLVER_CONVERGENCE_MSG)\n"
          ],
          "name": "stderr"
        },
        {
          "output_type": "stream",
          "text": [
            "Logistic:\n",
            "F1 score: 0.56\n",
            "kNN Classifier:\n",
            "F1 score: 0.62\n",
            "Naive Bayes Classifier:\n",
            "F1 score: 0.56\n",
            "Decision Tree Classifier:\n",
            "F1 score: 0.62\n",
            "Neural Network:\n",
            "F1 score: 0.64\n",
            "xGBoost:\n",
            "F1 score: 0.67\n",
            "CatBoost:\n",
            "F1 score: 0.67\n"
          ],
          "name": "stdout"
        }
      ]
    },
    {
      "cell_type": "code",
      "metadata": {
        "colab": {
          "base_uri": "https://localhost:8080/",
          "height": 744
        },
        "id": "SwkQ_8kFWMJ8",
        "outputId": "08159c05-6291-4849-f98c-343f33d2ba67"
      },
      "source": [
        "plt.figure(figsize = (20, 12))\n",
        "colors = rainbow(np.linspace(0, 1, len(classifiers)))\n",
        "barplot = plt.bar(classifier_names, accuracies, color = colors)\n",
        "plt.yticks([0, 10, 20, 30, 40, 50, 60, 70, 80, 90, 100], fontsize = 16)\n",
        "plt.xticks(fontsize = 14)\n",
        "plt.xlabel(\"Classifiers\", fontsize = 16)\n",
        "plt.ylabel(\"Accuracy\", fontsize = 16)\n",
        "plt.title(\"Plot for accuracy of all classifiers\", fontsize = 16)\n",
        "for i, bar in enumerate(barplot):\n",
        "    plt.text(bar.get_x() + bar.get_width()/2 - 0.1, \n",
        "             bar.get_height()*1.02, \n",
        "             s = '{:.2f}%'.format(accuracies[i]), \n",
        "             fontsize = 16)"
      ],
      "execution_count": null,
      "outputs": [
        {
          "output_type": "display_data",
          "data": {
            "image/png": "[encoded data removed]",
            "text/plain": [
              "<Figure size 1440x864 with 1 Axes>"
            ]
          },
          "metadata": {
            "tags": []
          }
        }
      ]
    },
    {
      "cell_type": "code",
      "metadata": {
        "colab": {
          "base_uri": "https://localhost:8080/",
          "height": 757
        },
        "id": "TzhDRjfBJtv9",
        "outputId": "882546ae-bebc-451c-f2b8-2a61aaba07c0"
      },
      "source": [
        "from sklearn.metrics import roc_curve, auc\n",
        "from matplotlib.cm import rainbow\n",
        "colors = rainbow(np.linspace(0, 1, len(classifiers)))\n",
        "plt.figure(figsize = (20, 12))\n",
        "plt.plot([0,1], [0,1], 'r--')\n",
        "\n",
        "for i in range(len(classifiers)):\n",
        "    classifier = classifiers[i]\n",
        "    probs = classifier.predict_proba(X_test)\n",
        "    probs = probs[:, 1]\n",
        "    fpr, tpr, thresholds = roc_curve(y_test, probs)\n",
        "    roc_auc = auc(fpr, tpr)\n",
        "    label = classifier_names[i] + ' AUC:' + ' {0:.2f}'.format(roc_auc)\n",
        "    plt.plot(fpr, tpr, c = colors[i], label = label, linewidth = 4)\n",
        "    \n",
        "plt.xlabel('False Positive Rate', fontsize = 16)\n",
        "plt.ylabel('True Positive Rate', fontsize = 16)\n",
        "plt.title('Receiver Operating Characteristic', fontsize = 16)\n",
        "plt.legend(loc = 'lower right', fontsize = 16)"
      ],
      "execution_count": null,
      "outputs": [
        {
          "output_type": "execute_result",
          "data": {
            "text/plain": [
              "<matplotlib.legend.Legend at 0x7fc60d174fd0>"
            ]
          },
          "metadata": {
            "tags": []
          },
          "execution_count": 115
        },
        {
          "output_type": "display_data",
          "data": {
            "image/png": "[encoded data removed]",
            "text/plain": [
              "<Figure size 1440x864 with 1 Axes>"
            ]
          },
          "metadata": {
            "tags": []
          }
        }
      ]
    },
    {
      "cell_type": "markdown",
      "metadata": {
        "id": "jAG3AkR2d_VP"
      },
      "source": [
        "# Forward and Backward Selection of Variables"
      ]
    },
    {
      "cell_type": "code",
      "metadata": {
        "colab": {
          "base_uri": "https://localhost:8080/"
        },
        "id": "HutoRQewmmd5",
        "outputId": "d065de88-1a73-40dc-f023-2cd24b73a280"
      },
      "source": [
        "from mlxtend.feature_selection import SequentialFeatureSelector as sfs\n",
        "mlpClas = MLPClassifier(learning_rate_init= 0.03, activation='relu')\n",
        "# Build step forward feature selection\n",
        "sfs1 = sfs(mlpClas,\n",
        "           k_features=8,\n",
        "           forward=True,\n",
        "           floating=False,\n",
        "           verbose=2,\n",
        "           scoring='accuracy',\n",
        "           cv=5)\n",
        "\n",
        "# Perform SFFS\n",
        "sfs1 = sfs1.fit(X_train, y_train)"
      ],
      "execution_count": null,
      "outputs": [
        {
          "output_type": "stream",
          "text": [
            "[Parallel(n_jobs=1)]: Using backend SequentialBackend with 1 concurrent workers.\n",
            "[Parallel(n_jobs=1)]: Done   1 out of   1 | elapsed:   11.4s remaining:    0.0s\n",
            "[Parallel(n_jobs=1)]: Done  11 out of  11 | elapsed:  2.4min finished\n",
            "\n",
            "[2021-08-02 02:26:03] Features: 1/8 -- score: 0.8008974361827406[Parallel(n_jobs=1)]: Using backend SequentialBackend with 1 concurrent workers.\n",
            "[Parallel(n_jobs=1)]: Done   1 out of   1 | elapsed:   11.2s remaining:    0.0s\n",
            "[Parallel(n_jobs=1)]: Done  10 out of  10 | elapsed:  2.1min finished\n",
            "\n",
            "[2021-08-02 02:28:11] Features: 2/8 -- score: 0.8065723971491575[Parallel(n_jobs=1)]: Using backend SequentialBackend with 1 concurrent workers.\n",
            "[Parallel(n_jobs=1)]: Done   1 out of   1 | elapsed:   14.3s remaining:    0.0s\n",
            "[Parallel(n_jobs=1)]: Done   9 out of   9 | elapsed:  2.1min finished\n",
            "\n",
            "[2021-08-02 02:30:15] Features: 3/8 -- score: 0.8357820180118083[Parallel(n_jobs=1)]: Using backend SequentialBackend with 1 concurrent workers.\n",
            "[Parallel(n_jobs=1)]: Done   1 out of   1 | elapsed:   13.6s remaining:    0.0s\n",
            "[Parallel(n_jobs=1)]: Done   8 out of   8 | elapsed:  2.1min finished\n",
            "\n",
            "[2021-08-02 02:32:22] Features: 4/8 -- score: 0.8394774003851448[Parallel(n_jobs=1)]: Using backend SequentialBackend with 1 concurrent workers.\n",
            "[Parallel(n_jobs=1)]: Done   1 out of   1 | elapsed:   18.7s remaining:    0.0s\n",
            "[Parallel(n_jobs=1)]: Done   7 out of   7 | elapsed:  2.1min finished\n",
            "\n",
            "[2021-08-02 02:34:30] Features: 5/8 -- score: 0.8418528443839872[Parallel(n_jobs=1)]: Using backend SequentialBackend with 1 concurrent workers.\n",
            "[Parallel(n_jobs=1)]: Done   1 out of   1 | elapsed:   20.1s remaining:    0.0s\n",
            "[Parallel(n_jobs=1)]: Done   6 out of   6 | elapsed:  2.1min finished\n",
            "\n",
            "[2021-08-02 02:36:38] Features: 6/8 -- score: 0.841281067824533[Parallel(n_jobs=1)]: Using backend SequentialBackend with 1 concurrent workers.\n",
            "[Parallel(n_jobs=1)]: Done   1 out of   1 | elapsed:   22.0s remaining:    0.0s\n",
            "[Parallel(n_jobs=1)]: Done   5 out of   5 | elapsed:  1.9min finished\n",
            "\n",
            "[2021-08-02 02:38:31] Features: 7/8 -- score: 0.8427767141661937[Parallel(n_jobs=1)]: Using backend SequentialBackend with 1 concurrent workers.\n",
            "[Parallel(n_jobs=1)]: Done   1 out of   1 | elapsed:   28.7s remaining:    0.0s\n",
            "[Parallel(n_jobs=1)]: Done   4 out of   4 | elapsed:  1.5min finished\n",
            "\n",
            "[2021-08-02 02:40:03] Features: 8/8 -- score: 0.8424249208854558"
          ],
          "name": "stderr"
        }
      ]
    },
    {
      "cell_type": "code",
      "metadata": {
        "colab": {
          "base_uri": "https://localhost:8080/"
        },
        "id": "WjSZqMwoo-on",
        "outputId": "2ec1b6a2-e0c7-4f08-9413-fb8b7c2c6db6"
      },
      "source": [
        "# Which features?\n",
        "feat_cols = list(sfs1.k_feature_idx_)\n",
        "print(feat_cols)"
      ],
      "execution_count": null,
      "outputs": [
        {
          "output_type": "stream",
          "text": [
            "[0, 2, 3, 4, 5, 7, 8, 10]\n"
          ],
          "name": "stdout"
        }
      ]
    },
    {
      "cell_type": "code",
      "metadata": {
        "colab": {
          "base_uri": "https://localhost:8080/"
        },
        "id": "If9-rQoZpn72",
        "outputId": "d9dbe5e2-d32b-4409-9b54-1ff8ecb48e62"
      },
      "source": [
        "# Build full model with selected features\n",
        "mlpClas = MLPClassifier(learning_rate_init= 0.03, activation='relu')\n",
        "mlpClas.fit(X_train.iloc[:, feat_cols], y_train)\n",
        "\n",
        "y_train_pred = mlpClas.predict(X_train.iloc[:, feat_cols])\n",
        "print('Training accuracy on selected features: %.3f' % accuracy_score(y_train, y_train_pred))\n",
        "\n",
        "y_test_pred = mlpClas.predict(X_test.iloc[:, feat_cols])\n",
        "print('Testing accuracy on selected features: %.3f' % accuracy_score(y_test, y_test_pred))"
      ],
      "execution_count": null,
      "outputs": [
        {
          "output_type": "stream",
          "text": [
            "Training accuracy on selected features: 0.843\n",
            "Testing accuracy on selected features: 0.846\n"
          ],
          "name": "stdout"
        }
      ]
    },
    {
      "cell_type": "code",
      "metadata": {
        "colab": {
          "base_uri": "https://localhost:8080/"
        },
        "id": "cbn9B9uBqGuJ",
        "outputId": "a1ff6933-a3ce-480b-c8a8-e62049cc9815"
      },
      "source": [
        "# Build full model on ALL features, for comparison\n",
        "mlpClas = MLPClassifier(learning_rate_init= 0.03, activation='relu')\n",
        "mlpClas.fit(X_train, y_train)\n",
        "\n",
        "y_train_pred = mlpClas.predict(X_train)\n",
        "print('Training accuracy on all features: %.3f' % accuracy_score(y_train, y_train_pred))\n",
        "\n",
        "y_test_pred = mlpClas.predict(X_test)\n",
        "print('Testing accuracy on all features: %.3f' % accuracy_score(y_test, y_test_pred))"
      ],
      "execution_count": null,
      "outputs": [
        {
          "output_type": "stream",
          "text": [
            "Training accuracy on all features: 0.843\n",
            "Testing accuracy on all features: 0.844\n"
          ],
          "name": "stdout"
        }
      ]
    },
    {
      "cell_type": "code",
      "metadata": {
        "colab": {
          "base_uri": "https://localhost:8080/"
        },
        "id": "dVLNvPlH0GBz",
        "outputId": "861b8dc9-64bf-48e2-edcd-e542f2eb0e50"
      },
      "source": [
        "results=pd.DataFrame(columns=['Column Index', 'Accuracy Score'])\n",
        "k=0\n",
        "\n",
        "x=MLPClassifier(learning_rate_init= 0.03, activation='relu')\n",
        "\n",
        "for i in range(1, 11):\n",
        "    x_train=X_train.iloc[:,i:]\n",
        "    x_test=X_test.iloc[:,i:]\n",
        "    x.fit(x_train, y_train)\n",
        "    pred = x.predict(x_test)\n",
        "    results.loc[k] = [i-1, accuracy_score(y_test, pred)]\n",
        "    k+=1\n",
        "\n",
        "print(tabulate(results, headers=results.columns, tablefmt='grid'))"
      ],
      "execution_count": null,
      "outputs": [
        {
          "output_type": "stream",
          "text": [
            "+----+----------------+------------------+\n",
            "|    |   Column Index |   Accuracy Score |\n",
            "+====+================+==================+\n",
            "|  0 |              0 |         0.844381 |\n",
            "+----+----------------+------------------+\n",
            "|  1 |              1 |         0.841016 |\n",
            "+----+----------------+------------------+\n",
            "|  2 |              2 |         0.806139 |\n",
            "+----+----------------+------------------+\n",
            "|  3 |              3 |         0.808994 |\n",
            "+----+----------------+------------------+\n",
            "|  4 |              4 |         0.805833 |\n",
            "+----+----------------+------------------+\n",
            "|  5 |              5 |         0.799001 |\n",
            "+----+----------------+------------------+\n",
            "|  6 |              6 |         0.799001 |\n",
            "+----+----------------+------------------+\n",
            "|  7 |              7 |         0.799001 |\n",
            "+----+----------------+------------------+\n",
            "|  8 |              8 |         0.799001 |\n",
            "+----+----------------+------------------+\n",
            "|  9 |              9 |         0.799001 |\n",
            "+----+----------------+------------------+\n"
          ],
          "name": "stdout"
        }
      ]
    },
    {
      "cell_type": "code",
      "metadata": {
        "colab": {
          "base_uri": "https://localhost:8080/"
        },
        "id": "YzfJnwIhzyV3",
        "outputId": "fd0d60e4-4ed2-4741-8842-14c95974e483"
      },
      "source": [
        "results=pd.DataFrame(columns=['Columns Index:', 'Accuracy Score'])\n",
        "k=0\n",
        "\n",
        "x=MLPClassifier(learning_rate_init= 0.03, activation='relu')\n",
        "\n",
        "for i in range(10, 0, -1):\n",
        "    x_train=X_train.iloc[:,:i]\n",
        "    x_test=X_test.iloc[:, :i]\n",
        "    x.fit(x_train, y_train)\n",
        "    pred = x.predict(x_test)\n",
        "    results.loc[k] = [i-1, accuracy_score(y_test, pred)]\n",
        "    k+=1\n",
        "\n",
        "print(tabulate(results, headers=results.columns, tablefmt='grid'))"
      ],
      "execution_count": null,
      "outputs": [
        {
          "output_type": "stream",
          "text": [
            "+----+------------------+------------------+\n",
            "|    |   Columns Index: |   Accuracy Score |\n",
            "+====+==================+==================+\n",
            "|  0 |                9 |         0.830614 |\n",
            "+----+------------------+------------------+\n",
            "|  1 |                8 |         0.822354 |\n",
            "+----+------------------+------------------+\n",
            "|  2 |                7 |         0.821742 |\n",
            "+----+------------------+------------------+\n",
            "|  3 |                6 |         0.823781 |\n",
            "+----+------------------+------------------+\n",
            "|  4 |                5 |         0.82113  |\n",
            "+----+------------------+------------------+\n",
            "|  5 |                4 |         0.821232 |\n",
            "+----+------------------+------------------+\n",
            "|  6 |                3 |         0.821232 |\n",
            "+----+------------------+------------------+\n",
            "|  7 |                2 |         0.771059 |\n",
            "+----+------------------+------------------+\n",
            "|  8 |                1 |         0.754028 |\n",
            "+----+------------------+------------------+\n",
            "|  9 |                0 |         0.754028 |\n",
            "+----+------------------+------------------+\n"
          ],
          "name": "stdout"
        }
      ]
    }
  ]
}